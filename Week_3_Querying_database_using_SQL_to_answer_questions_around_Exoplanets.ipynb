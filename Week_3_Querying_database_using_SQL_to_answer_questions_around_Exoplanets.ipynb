{
  "nbformat": 4,
  "nbformat_minor": 0,
  "metadata": {
    "colab": {
      "provenance": []
    },
    "kernelspec": {
      "name": "python3",
      "display_name": "Python 3"
    },
    "language_info": {
      "name": "python"
    }
  },
  "cells": [
    {
      "cell_type": "markdown",
      "source": [
        "Write an SQL query to find the radius and temperature of the stars in the Star table that are larger than our sun"
      ],
      "metadata": {
        "id": "p6C2cjyON8Ie"
      }
    },
    {
      "cell_type": "code",
      "source": [
        "SELECT radius, t_eff FROM Star\n",
        "WHERE radius > 1;"
      ],
      "metadata": {
        "id": "-0tvOKSYN-sK"
      },
      "execution_count": null,
      "outputs": []
    },
    {
      "cell_type": "markdown",
      "source": [
        " Write a range query which returns the ```kepler_id``` and the ```t_eff``` attributes of all those stars in the Star table whose temperature lies between 5000 and 6000 Kelvin (inclusive)"
      ],
      "metadata": {
        "id": "zHhz6RD7OBYu"
      }
    },
    {
      "cell_type": "code",
      "source": [
        "SELECT kepler_id, t_eff FROM Star\n",
        "WHERE t_eff BETWEEN 5000 AND 6000;\n"
      ],
      "metadata": {
        "id": "IcC1aVkOOOy_"
      },
      "execution_count": null,
      "outputs": []
    },
    {
      "cell_type": "markdown",
      "source": [
        "Write a query to find the ```kepler_name``` and ```radius``` of each planet in the ```Planet``` table which is a confirmed exoplanet, meaning that their ```kepler_name``` is not NULL, or, equivalently, whose status is 'CONFIRMED'.\n",
        "\n",
        "Restrict your results to those planets whose radius lies between one and three earth radii, and remember that the radius of the planets is relative to the earth radius.\n"
      ],
      "metadata": {
        "id": "u3uZ0EFzOSZ_"
      }
    },
    {
      "cell_type": "code",
      "source": [
        "SELECT kepler_name, radius FROM Planet\n",
        "WHERE kepler_name IS NOT NULL AND radius BETWEEN 1 AND 3;"
      ],
      "metadata": {
        "id": "9dMZv9EAOqIw"
      },
      "execution_count": null,
      "outputs": []
    },
    {
      "cell_type": "markdown",
      "source": [
        "Write a query that calculates the below for unconfirmed planets in the Planet table:\n",
        "\n",
        "*   manimum radius\n",
        "*   maximum radius\n",
        "*   average radius\n",
        "*   standard deviation of the radii"
      ],
      "metadata": {
        "id": "H6UEMGC4O-k6"
      }
    },
    {
      "cell_type": "code",
      "source": [
        "SELECT MIN(radius), MAX(radius), AVG(radius), STDDEV(radius)\n",
        "FROM Planet\n",
        "WHERE kepler_name IS NULL;"
      ],
      "metadata": {
        "id": "P4PbwtLMPT4H"
      },
      "execution_count": null,
      "outputs": []
    },
    {
      "cell_type": "markdown",
      "source": [
        "Find out how many planets in the Planet database are in a multi-planet system. Planets sharing the same star will have the same ```kepler_id```, but different ```koi_name``` (Kepler Object if Interest) values.\n",
        "\n",
        "Your query should return a table in which each row contains the ```kepler_id``` of the star and the number of planets orbiting that star.\n"
      ],
      "metadata": {
        "id": "_rmarsK6PVjf"
      }
    },
    {
      "cell_type": "code",
      "source": [
        "SELECT kepler_id, COUNT(koi_name)\n",
        "FROM Planet\n",
        "GROUP BY kepler_id\n",
        "HAVING COUNT(koi_name) > 1\n",
        "ORDER BY COUNT(koi_name) DESC\n",
        ";\n"
      ],
      "metadata": {
        "id": "Se-uHax9PkfL"
      },
      "execution_count": null,
      "outputs": []
    },
    {
      "cell_type": "markdown",
      "source": [
        "Write a query that returns the radius of each star and planet pair whose radii have a ratio greater than the Sun-to-Earth radius ratio. Order the results in descending order based on the stellar radii. Use sun_radius and planet_radius as attribute aliases for the star and planet radii."
      ],
      "metadata": {
        "id": "OyJras2bPz2f"
      }
    },
    {
      "cell_type": "code",
      "source": [
        "SELECT s.radius AS sun_radius, p.radius AS planet_radius\n",
        "FROM Star AS s, Planet AS p\n",
        "WHERE s.kepler_id = p.kepler_id AND s.radius > p.radius\n",
        "ORDER BY s.radius DESC\n",
        ";"
      ],
      "metadata": {
        "id": "A0UjlpeHP-oX"
      },
      "execution_count": null,
      "outputs": []
    },
    {
      "cell_type": "markdown",
      "source": [
        "Write a query which counts the number of planets in each solar system where the corresponding stars are larger than our sun (i.e. their radius is larger than 1).\n",
        "\n",
        "Your query should return the star's radius and its number of planets, showing only rows where the number of planets is more than one. Sort the rows in descending order based on the star radii.\n"
      ],
      "metadata": {
        "id": "UC0scsqkQFQC"
      }
    },
    {
      "cell_type": "code",
      "source": [
        "SELECT Star.radius AS radius, COUNT(Planet.kepler_id) AS count\n",
        "FROM Star\n",
        "JOIN Planet ON Planet.kepler_id = Star.kepler_id\n",
        "WHERE Star.radius >= 1\n",
        "GROUP BY Star.kepler_id\n",
        "HAVING COUNT(Planet.kepler_id) > 1\n",
        "ORDER BY radius DESC\n",
        ";\n"
      ],
      "metadata": {
        "id": "D1Zh46fpQJ1P"
      },
      "execution_count": null,
      "outputs": []
    },
    {
      "cell_type": "markdown",
      "source": [
        "\n",
        "\n",
        "---\n",
        "\n"
      ],
      "metadata": {
        "id": "8mVqt9TWQdes"
      }
    },
    {
      "cell_type": "markdown",
      "source": [
        "*https://exoplanetarchive.ipac.caltech.edu/docs/API_kepcandidate_columns.html*"
      ],
      "metadata": {
        "id": "2nVQ7XYQQe0F"
      }
    }
  ]
}