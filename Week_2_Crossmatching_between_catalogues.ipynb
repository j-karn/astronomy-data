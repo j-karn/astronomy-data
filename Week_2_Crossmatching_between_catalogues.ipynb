{
  "nbformat": 4,
  "nbformat_minor": 0,
  "metadata": {
    "colab": {
      "provenance": []
    },
    "kernelspec": {
      "name": "python3",
      "display_name": "Python 3"
    },
    "language_info": {
      "name": "python"
    }
  },
  "cells": [
    {
      "cell_type": "markdown",
      "source": [
        "### Steps:\n",
        " 1. Converting position into decimal degress\n",
        " 2. Calculating angular distance\n",
        " 3. Working with databases: Bright Source Sameple survey [BSS](https://https://cdsarc.u-strasbg.fr/viz-bin/Cat?J/MNRAS/384/775#/article) (dat) and SuperCOSMOS (csv)\n",
        " 4. Finding the object in BSS catalogue which is closest to certain positions  \n",
        " 5. Full crossmatching between the two databases"
      ],
      "metadata": {
        "id": "1V3tyVtAmlMz"
      }
    },
    {
      "cell_type": "markdown",
      "source": [
        "## Task i - Converting position to decimal degrees\n",
        "\n",
        "Write two functions, one that converts right ascension from HMS to decimal degrees, called ```hms2dec```, and another that converts declination from DMS to decimal degrees, called ```dms2dec```.\n",
        "\n",
        "Right ascension is always an angle from 0 to 24 hours and declination is always an angle from -90° to +90°."
      ],
      "metadata": {
        "id": "J6oW_6a3aH0r"
      }
    },
    {
      "cell_type": "code",
      "source": [
        "def hms2dec(arg1, arg2, arg3):\n",
        "  sec = arg3 / (60*60)\n",
        "  min = arg2 / 60\n",
        "  hour = arg1\n",
        "  return (15*(hour + min + sec))\n"
      ],
      "metadata": {
        "id": "ZYHAuUijaL-K"
      },
      "execution_count": 254,
      "outputs": []
    },
    {
      "cell_type": "code",
      "source": [
        "print(hms2dec(23, 12, 6))"
      ],
      "metadata": {
        "colab": {
          "base_uri": "https://localhost:8080/"
        },
        "id": "rUQ3rZvbcMR_",
        "outputId": "e50b8aee-8e5a-44bb-8c4a-a182f0611194"
      },
      "execution_count": 255,
      "outputs": [
        {
          "output_type": "stream",
          "name": "stdout",
          "text": [
            "348.025\n"
          ]
        }
      ]
    },
    {
      "cell_type": "markdown",
      "source": [
        "You can convert 23 hours, 12 minutes and 6 seconds (written as 23:12:06 or 23h12m06s) to degrees like this"
      ],
      "metadata": {
        "id": "XyWlyHQUbZ5q"
      }
    },
    {
      "cell_type": "code",
      "source": [
        "print(15*(23 + 12/60 + 6/(60*60)))"
      ],
      "metadata": {
        "colab": {
          "base_uri": "https://localhost:8080/"
        },
        "id": "FxnU-QI2bMcC",
        "outputId": "4ae23045-a09b-403f-d8b8-9e8095f6ade0"
      },
      "execution_count": 256,
      "outputs": [
        {
          "output_type": "stream",
          "name": "stdout",
          "text": [
            "348.025\n"
          ]
        }
      ]
    },
    {
      "cell_type": "code",
      "source": [
        "# convert right ascension from HMS to decimal degrees,\n",
        "\n",
        "def hms2dec(arg1, arg2, arg3):\n",
        "  sec = arg3 / (60*60)\n",
        "  min = arg2 / 60\n",
        "  hour = arg1\n",
        "  return (15*(hour + min + sec))\n",
        "\n",
        "# convert declination from DMS to decimal degrees\n",
        "\n",
        "def dms2dec(arg1, arg2, arg3):\n",
        "  if arg1 <0:\n",
        "    return (-1*(arg1*-1 + arg2 / 60 + arg3 / (60*60)))\n",
        "  else:\n",
        "    return  (arg1 + arg2/60 + arg3/(60*60))"
      ],
      "metadata": {
        "id": "WnI9d2ZRftOI"
      },
      "execution_count": 257,
      "outputs": []
    },
    {
      "cell_type": "code",
      "source": [
        "dms2dec(-66,5,5.1)"
      ],
      "metadata": {
        "colab": {
          "base_uri": "https://localhost:8080/"
        },
        "id": "j8l3Pcp7dDHx",
        "outputId": "d1844024-201d-4f1c-bc06-89b369476329"
      },
      "execution_count": 260,
      "outputs": [
        {
          "output_type": "execute_result",
          "data": {
            "text/plain": [
              "-66.08475"
            ]
          },
          "metadata": {},
          "execution_count": 260
        }
      ]
    },
    {
      "cell_type": "code",
      "source": [
        "# check results\n",
        "\n",
        "print(hms2dec(23, 12, 6), dms2dec(22,57,18), dms2dec(-5,31,12))"
      ],
      "metadata": {
        "colab": {
          "base_uri": "https://localhost:8080/"
        },
        "id": "D3VvhLpVf0HA",
        "outputId": "a2d08885-c112-45d5-db4e-7c256404f7cc"
      },
      "execution_count": 261,
      "outputs": [
        {
          "output_type": "stream",
          "name": "stdout",
          "text": [
            "348.025 22.955 -5.52\n"
          ]
        }
      ]
    },
    {
      "cell_type": "markdown",
      "source": [
        "### Additional note:\n",
        "\n",
        "The ```abs()```function returns the absolute value of the specified number.\n",
        "\n",
        "The use of the ```abs()``` function has converted the negative numbers into positive ones. For the positive numbers, there has been no change.\n",
        "\n",
        "Remember that the absolute value of a real number refers to its distance from 0 and is known as magnitude. As magnitude is just a distance, it will always be positive.\n",
        "\n",
        "The ```abs()``` function works with integers, floats, and complex numbers, so it should keep you covered in any situation where you may need to apply it."
      ],
      "metadata": {
        "id": "8DKlixhyiUK1"
      }
    },
    {
      "cell_type": "markdown",
      "source": [
        "## Task ii - Calculating Angular Distance\n",
        "\n",
        "Write a function called ```angular_dist``` that calculates the angular distance between any two points on the celestial sphere given their right ascension and declination.\n",
        "\n",
        "Your function should take arguments in decimal degrees and return the distance in decimal degrees too."
      ],
      "metadata": {
        "id": "7N7QwSbAzj_u"
      }
    },
    {
      "cell_type": "code",
      "source": [
        "# Note to self\n",
        "# Keep in mind that NumPy trigonometric functions only take radians as input\n",
        "# Remember to convert degrees to radians\n",
        "# database is in degrees"
      ],
      "metadata": {
        "id": "pqXFd5FymUei"
      },
      "execution_count": null,
      "outputs": []
    },
    {
      "cell_type": "markdown",
      "source": [
        "Game plan:\n",
        "\n",
        "\n",
        "> 1.   Convert degrees to radians to feed into numpy\n",
        "> 2.   Calculation using numpy function\n",
        "> 3.   Convert back to degrees\n",
        "\n",
        "\n",
        "\n",
        "\n",
        "\n"
      ],
      "metadata": {
        "id": "YUpw0TpePhVa"
      }
    },
    {
      "cell_type": "code",
      "source": [
        "# write a function that calculates the angular distance between two points given their RA and DEC\n",
        "\n",
        "def angular_dist(ra1, dec1, ra2, dec2):\n",
        "  import numpy as np\n",
        "\n",
        "  #convert RA and DEC degrees to radians\n",
        "  r1 = np.radians(ra1)\n",
        "  d1 = np.radians(dec1)\n",
        "  r2 = np.radians(ra2)\n",
        "  d2 = np.radians(dec2)\n",
        "    #return r1, d1, r2, d2\n",
        "\n",
        "  # pass through calculations\n",
        "  b = np.cos(d1)*np.cos(d2)*np.sin(np.abs(r1 - r2)/2)**2\n",
        "  a = np.sin(np.abs(d1 - d2)/2)**2\n",
        "  d = 2*np.arcsin(np.sqrt(a + b))\n",
        "\n",
        "  # convert back to degrees\n",
        "  adis_deg = np.degrees(d)\n",
        "  return adis_deg"
      ],
      "metadata": {
        "id": "-M9R6o73RJX4"
      },
      "execution_count": 262,
      "outputs": []
    },
    {
      "cell_type": "code",
      "source": [
        "print(angular_dist(21.07, 0.1, 21.15, 8.2))"
      ],
      "metadata": {
        "colab": {
          "base_uri": "https://localhost:8080/"
        },
        "id": "6ViBrc1hVR6f",
        "outputId": "55d73200-cf4d-4264-8f78-32a85b2051a6"
      },
      "execution_count": 263,
      "outputs": [
        {
          "output_type": "stream",
          "name": "stdout",
          "text": [
            "8.100392318146504\n"
          ]
        }
      ]
    },
    {
      "cell_type": "code",
      "source": [
        "angular_dist(10.3, -3, 24.3, -29)"
      ],
      "metadata": {
        "colab": {
          "base_uri": "https://localhost:8080/"
        },
        "id": "_nd4J8zpVkLm",
        "outputId": "1a127089-a28e-4561-9296-1f6ce75a848f"
      },
      "execution_count": 264,
      "outputs": [
        {
          "output_type": "execute_result",
          "data": {
            "text/plain": [
              "29.208498180546595"
            ]
          },
          "metadata": {},
          "execution_count": 264
        }
      ]
    },
    {
      "cell_type": "markdown",
      "source": [
        "## Task iii - Working with Catalogues\n",
        "\n",
        "Write ```import_bss``` and ```import_super``` functions that import the AT20G BSS and SuperCOSMOS catalogues.\n",
        "\n",
        "Each function should return a list of tuples containing the object's ID (an integer) and the coordinates in degrees. The object ID should be the row of the object in the catalogue, starting at 1.\n",
        "\n",
        "Your functions should work like this:"
      ],
      "metadata": {
        "id": "bQe_btqgnfPg"
      }
    },
    {
      "cell_type": "markdown",
      "source": [
        "```import_bss()```\n",
        "<br>\n",
        "```[(1, 1.1485416666666666, -47.60530555555556),\n",
        " (2, 2.6496666666666666, -30.463416666666667),\n",
        " (3, 2.7552916666666665, -26.209194444444442)]```"
      ],
      "metadata": {
        "id": "T7WEivg_akmk"
      }
    },
    {
      "cell_type": "markdown",
      "source": [
        "The files ```bss.dat``` and ```super.csv``` contain only the first 3 rows of the respective full catalogues, but your function should work with any number of entries in either catalogue. [BSS ReadMe](https://cdsarc.u-strasbg.fr/ftp/J/MNRAS/384/775/ReadMe)."
      ],
      "metadata": {
        "id": "fEGZ-RuIf2PP"
      }
    },
    {
      "cell_type": "code",
      "source": [
        "# pulling data into numpy array from dat file\n",
        "import numpy as np\n",
        "data_test = np.loadtxt('https://cdsarc.u-strasbg.fr/ftp/J/MNRAS/384/775/table2.dat', usecols=range(1,7))\n",
        "data_test"
      ],
      "metadata": {
        "colab": {
          "base_uri": "https://localhost:8080/"
        },
        "id": "ge0JZ2zJfP1E",
        "outputId": "5db7f046-587d-4c22-9a4c-c69584ffa5b9"
      },
      "execution_count": 265,
      "outputs": [
        {
          "output_type": "execute_result",
          "data": {
            "text/plain": [
              "array([[  0.  ,   4.  ,  35.65, -47.  ,  36.  ,  19.1 ],\n",
              "       [  0.  ,  10.  ,  35.92, -30.  ,  27.  ,  48.3 ],\n",
              "       [  0.  ,  11.  ,   1.27, -26.  ,  12.  ,  33.1 ],\n",
              "       ...,\n",
              "       [ 23.  ,  58.  ,   2.13, -45.  ,  55.  ,  18.8 ],\n",
              "       [ 23.  ,  59.  ,   4.7 , -60.  ,  55.  ,   1.1 ],\n",
              "       [ 23.  ,  59.  ,  35.41, -31.  ,  33.  ,  44.9 ]])"
            ]
          },
          "metadata": {},
          "execution_count": 265
        }
      ]
    },
    {
      "cell_type": "code",
      "source": [
        "data_test.shape, type(data_test), type(data_test[1]), type(data_test[1][1]), data_test.ndim, data_test.shape[0], data_test.shape[0]+1"
      ],
      "metadata": {
        "colab": {
          "base_uri": "https://localhost:8080/"
        },
        "id": "y33NOTwH-MH9",
        "outputId": "13937e2c-a3ac-4f50-a386-28065de8f342"
      },
      "execution_count": 266,
      "outputs": [
        {
          "output_type": "execute_result",
          "data": {
            "text/plain": [
              "((320, 6), numpy.ndarray, numpy.ndarray, numpy.float64, 2, 320, 321)"
            ]
          },
          "metadata": {},
          "execution_count": 266
        }
      ]
    },
    {
      "cell_type": "code",
      "source": [
        "# write function to load bss catalogue\n",
        "\n",
        "def import_bss():\n",
        "  import numpy as np\n",
        "\n",
        "  # load and grab data ranging from the column position 1 up until column pos 6\n",
        "  data = np.genfromtxt('https://cdsarc.u-strasbg.fr/ftp/J/MNRAS/384/775/table2.dat', usecols=range(1,7))\n",
        "\n",
        "  # placeholder\n",
        "  RADecs = []\n",
        "\n",
        "  # add a column for object id\n",
        "  # generate value starting from 1, ending at the 321 (row + 1), with increment of 1\n",
        "  # insert generated values at index 0 along the column (axis 1) onto the data array above\n",
        "  col_data = np.insert(data, 0, np.arange(start=1, stop=data.shape[0]+1, step=1), axis=1)\n",
        "\n",
        "\n",
        "  # iterate through each row\n",
        "  for f in col_data:\n",
        "    # identify column ID and convert strong to int\n",
        "    col_ID = f[0].astype(int)\n",
        "\n",
        "    # right ascension calculation to decimal degrees\n",
        "    ra_hour = f[1]\n",
        "    ra_min = f[2] / 60\n",
        "    ra_sec =  f[3] / (60*60)\n",
        "    ra_sec = f[3]/ (60*60)\n",
        "    Ra_deg = (15*(ra_hour + ra_min + ra_sec))\n",
        "\n",
        "    # declination calculation to decimal degrees\n",
        "    dec_deg = None\n",
        "    if f[4] <0:\n",
        "      dec_deg = (-1*(f[4]*-1 + f[5]/60 + f[6]/(60*60)))\n",
        "    else:\n",
        "      dec_deg = (f[4] + f[5]/60 + f[6]/(60*60))\n",
        "\n",
        "    # combine the values and apppend to RAs placeholder\n",
        "    RADecs.append([col_ID, Ra_deg, dec_deg])\n",
        "\n",
        "    # convert data type from list to tuple via list comprehension\n",
        "    holder_tuple_bss = [tuple(row) for row in RADecs]\n",
        "\n",
        "  return holder_tuple_bss"
      ],
      "metadata": {
        "id": "Z90Awstwgupk"
      },
      "execution_count": 267,
      "outputs": []
    },
    {
      "cell_type": "code",
      "source": [
        "# check first 10 result\n",
        "import_bss()[:10]"
      ],
      "metadata": {
        "colab": {
          "base_uri": "https://localhost:8080/"
        },
        "id": "y_N3A6RJpdWx",
        "outputId": "5b29304e-914c-4d07-da1d-d20a830d0aac"
      },
      "execution_count": 268,
      "outputs": [
        {
          "output_type": "execute_result",
          "data": {
            "text/plain": [
              "[(1, 1.1485416666666666, -47.60530555555556),\n",
              " (2, 2.6496666666666666, -30.463416666666667),\n",
              " (3, 2.7552916666666665, -26.209194444444442),\n",
              " (4, 3.2495416666666666, -39.907333333333334),\n",
              " (5, 6.4549166666666675, -26.03686111111111),\n",
              " (6, 6.568333333333333, -35.21372222222222),\n",
              " (7, 9.561333333333334, -24.98386111111111),\n",
              " (8, 12.497833333333332, -57.641),\n",
              " (9, 12.789583333333333, -42.442361111111104),\n",
              " (10, 14.694333333333335, -56.9865)]"
            ]
          },
          "metadata": {},
          "execution_count": 268
        }
      ]
    },
    {
      "cell_type": "markdown",
      "source": [
        "The SuperCOSMOS all-sky catalogue is a catalogue of galaxies generated from several visible light surveys.\n",
        "\n",
        "The original data is available on this page in a package called SCOS_XSC_mCl1_B21.5_R20_noStepWedges.csv.gz. Because this catalogue is so large, we've cut it down for these activities. The cut down version of the file will be named super.csv."
      ],
      "metadata": {
        "id": "Iwm99MsgvdeP"
      }
    },
    {
      "cell_type": "markdown",
      "source": [
        "The catalogue uses a comma-separated value (CSV) format. Aside from the first row, which contains column labels, the format is:\n",
        "\n",
        "1.   Right ascension in decimal degrees\n",
        "2.   Declination in decimal degrees\n",
        "3.   Other data, including magnitude and apparent shape\n"
      ],
      "metadata": {
        "id": "bhmb42bMbwzy"
      }
    },
    {
      "cell_type": "code",
      "source": [
        "# upload csv to colab\n",
        "# import pandas as pd\n",
        "from google.colab import files\n",
        "data_to_load = files.upload()"
      ],
      "metadata": {
        "colab": {
          "base_uri": "https://localhost:8080/",
          "height": 73
        },
        "id": "hMD98bUhsUkt",
        "outputId": "0cc11d29-ffcd-4cb1-e0ab-9e72939bfc6b"
      },
      "execution_count": 14,
      "outputs": [
        {
          "output_type": "display_data",
          "data": {
            "text/plain": [
              "<IPython.core.display.HTML object>"
            ],
            "text/html": [
              "\n",
              "     <input type=\"file\" id=\"files-85a93a45-5df0-4ac3-bbc5-cbf6f41aee46\" name=\"files[]\" multiple disabled\n",
              "        style=\"border:none\" />\n",
              "     <output id=\"result-85a93a45-5df0-4ac3-bbc5-cbf6f41aee46\">\n",
              "      Upload widget is only available when the cell has been executed in the\n",
              "      current browser session. Please rerun this cell to enable.\n",
              "      </output>\n",
              "      <script>// Copyright 2017 Google LLC\n",
              "//\n",
              "// Licensed under the Apache License, Version 2.0 (the \"License\");\n",
              "// you may not use this file except in compliance with the License.\n",
              "// You may obtain a copy of the License at\n",
              "//\n",
              "//      http://www.apache.org/licenses/LICENSE-2.0\n",
              "//\n",
              "// Unless required by applicable law or agreed to in writing, software\n",
              "// distributed under the License is distributed on an \"AS IS\" BASIS,\n",
              "// WITHOUT WARRANTIES OR CONDITIONS OF ANY KIND, either express or implied.\n",
              "// See the License for the specific language governing permissions and\n",
              "// limitations under the License.\n",
              "\n",
              "/**\n",
              " * @fileoverview Helpers for google.colab Python module.\n",
              " */\n",
              "(function(scope) {\n",
              "function span(text, styleAttributes = {}) {\n",
              "  const element = document.createElement('span');\n",
              "  element.textContent = text;\n",
              "  for (const key of Object.keys(styleAttributes)) {\n",
              "    element.style[key] = styleAttributes[key];\n",
              "  }\n",
              "  return element;\n",
              "}\n",
              "\n",
              "// Max number of bytes which will be uploaded at a time.\n",
              "const MAX_PAYLOAD_SIZE = 100 * 1024;\n",
              "\n",
              "function _uploadFiles(inputId, outputId) {\n",
              "  const steps = uploadFilesStep(inputId, outputId);\n",
              "  const outputElement = document.getElementById(outputId);\n",
              "  // Cache steps on the outputElement to make it available for the next call\n",
              "  // to uploadFilesContinue from Python.\n",
              "  outputElement.steps = steps;\n",
              "\n",
              "  return _uploadFilesContinue(outputId);\n",
              "}\n",
              "\n",
              "// This is roughly an async generator (not supported in the browser yet),\n",
              "// where there are multiple asynchronous steps and the Python side is going\n",
              "// to poll for completion of each step.\n",
              "// This uses a Promise to block the python side on completion of each step,\n",
              "// then passes the result of the previous step as the input to the next step.\n",
              "function _uploadFilesContinue(outputId) {\n",
              "  const outputElement = document.getElementById(outputId);\n",
              "  const steps = outputElement.steps;\n",
              "\n",
              "  const next = steps.next(outputElement.lastPromiseValue);\n",
              "  return Promise.resolve(next.value.promise).then((value) => {\n",
              "    // Cache the last promise value to make it available to the next\n",
              "    // step of the generator.\n",
              "    outputElement.lastPromiseValue = value;\n",
              "    return next.value.response;\n",
              "  });\n",
              "}\n",
              "\n",
              "/**\n",
              " * Generator function which is called between each async step of the upload\n",
              " * process.\n",
              " * @param {string} inputId Element ID of the input file picker element.\n",
              " * @param {string} outputId Element ID of the output display.\n",
              " * @return {!Iterable<!Object>} Iterable of next steps.\n",
              " */\n",
              "function* uploadFilesStep(inputId, outputId) {\n",
              "  const inputElement = document.getElementById(inputId);\n",
              "  inputElement.disabled = false;\n",
              "\n",
              "  const outputElement = document.getElementById(outputId);\n",
              "  outputElement.innerHTML = '';\n",
              "\n",
              "  const pickedPromise = new Promise((resolve) => {\n",
              "    inputElement.addEventListener('change', (e) => {\n",
              "      resolve(e.target.files);\n",
              "    });\n",
              "  });\n",
              "\n",
              "  const cancel = document.createElement('button');\n",
              "  inputElement.parentElement.appendChild(cancel);\n",
              "  cancel.textContent = 'Cancel upload';\n",
              "  const cancelPromise = new Promise((resolve) => {\n",
              "    cancel.onclick = () => {\n",
              "      resolve(null);\n",
              "    };\n",
              "  });\n",
              "\n",
              "  // Wait for the user to pick the files.\n",
              "  const files = yield {\n",
              "    promise: Promise.race([pickedPromise, cancelPromise]),\n",
              "    response: {\n",
              "      action: 'starting',\n",
              "    }\n",
              "  };\n",
              "\n",
              "  cancel.remove();\n",
              "\n",
              "  // Disable the input element since further picks are not allowed.\n",
              "  inputElement.disabled = true;\n",
              "\n",
              "  if (!files) {\n",
              "    return {\n",
              "      response: {\n",
              "        action: 'complete',\n",
              "      }\n",
              "    };\n",
              "  }\n",
              "\n",
              "  for (const file of files) {\n",
              "    const li = document.createElement('li');\n",
              "    li.append(span(file.name, {fontWeight: 'bold'}));\n",
              "    li.append(span(\n",
              "        `(${file.type || 'n/a'}) - ${file.size} bytes, ` +\n",
              "        `last modified: ${\n",
              "            file.lastModifiedDate ? file.lastModifiedDate.toLocaleDateString() :\n",
              "                                    'n/a'} - `));\n",
              "    const percent = span('0% done');\n",
              "    li.appendChild(percent);\n",
              "\n",
              "    outputElement.appendChild(li);\n",
              "\n",
              "    const fileDataPromise = new Promise((resolve) => {\n",
              "      const reader = new FileReader();\n",
              "      reader.onload = (e) => {\n",
              "        resolve(e.target.result);\n",
              "      };\n",
              "      reader.readAsArrayBuffer(file);\n",
              "    });\n",
              "    // Wait for the data to be ready.\n",
              "    let fileData = yield {\n",
              "      promise: fileDataPromise,\n",
              "      response: {\n",
              "        action: 'continue',\n",
              "      }\n",
              "    };\n",
              "\n",
              "    // Use a chunked sending to avoid message size limits. See b/62115660.\n",
              "    let position = 0;\n",
              "    do {\n",
              "      const length = Math.min(fileData.byteLength - position, MAX_PAYLOAD_SIZE);\n",
              "      const chunk = new Uint8Array(fileData, position, length);\n",
              "      position += length;\n",
              "\n",
              "      const base64 = btoa(String.fromCharCode.apply(null, chunk));\n",
              "      yield {\n",
              "        response: {\n",
              "          action: 'append',\n",
              "          file: file.name,\n",
              "          data: base64,\n",
              "        },\n",
              "      };\n",
              "\n",
              "      let percentDone = fileData.byteLength === 0 ?\n",
              "          100 :\n",
              "          Math.round((position / fileData.byteLength) * 100);\n",
              "      percent.textContent = `${percentDone}% done`;\n",
              "\n",
              "    } while (position < fileData.byteLength);\n",
              "  }\n",
              "\n",
              "  // All done.\n",
              "  yield {\n",
              "    response: {\n",
              "      action: 'complete',\n",
              "    }\n",
              "  };\n",
              "}\n",
              "\n",
              "scope.google = scope.google || {};\n",
              "scope.google.colab = scope.google.colab || {};\n",
              "scope.google.colab._files = {\n",
              "  _uploadFiles,\n",
              "  _uploadFilesContinue,\n",
              "};\n",
              "})(self);\n",
              "</script> "
            ]
          },
          "metadata": {}
        },
        {
          "output_type": "stream",
          "name": "stdout",
          "text": [
            "Saving super.csv to super.csv\n"
          ]
        }
      ]
    },
    {
      "cell_type": "code",
      "source": [
        "# load file for first look\n",
        "import numpy as np\n",
        "cat_check = np.loadtxt('super.csv', dtype=str)\n",
        "cat_check"
      ],
      "metadata": {
        "colab": {
          "base_uri": "https://localhost:8080/"
        },
        "id": "BCPkkuP4y0VX",
        "outputId": "94cff951-f9ef-48bf-b9f2-7d4607892932"
      },
      "execution_count": 269,
      "outputs": [
        {
          "output_type": "execute_result",
          "data": {
            "text/plain": [
              "array(['RA,Dec,sigRA,sigDec,epoch,muAcosD,muD,sigMuAcosD,sigMuD,chi2,classMagB,classMagR1,classMagR2,classMagI,meanClass,classB,classR1,classR2,classI,ellipB,ellipR1,ellipR2,ellipI,qualB,qualR1,qualR2,qualI',\n",
              "       '1.0583407,-52.9162402,1.2605071E-05,1.3178029E-05,1990.9344,-14.794838,-22.16756,7.242738,7.881182,5.027039,14.072,12.997,13.293,12.74,1,1,1,1,1,0.182453,0.234902,0.213206,0.19472,16,16,16,16',\n",
              "       '2.6084425,-41.5005753,2.0626481E-05,2.0626481E-05,1990.0508,-1.144597,-0.50977,10.397644,11.014809,0.245407,18.84,18.834,18.387,18.929,2,2,2,2,2,0.106605,0.112284,0.137899,0.091846,0,0,0,0',\n",
              "       '2.7302499,-27.706955,1.9480565E-05,1.8334649E-05,1982.9619,8.661513,1.872858,11.983931,11.506061,0.281173,19.188,18.723,18.74,18.993,2,2,2,2,1,0.117095,0.174671,0.020132,0.280859,0,0,0,0'],\n",
              "      dtype='<U198')"
            ]
          },
          "metadata": {},
          "execution_count": 269
        }
      ]
    },
    {
      "cell_type": "code",
      "source": [
        "super_catalogue = np.loadtxt('super.csv', delimiter=',',skiprows=1, usecols=[0,1], dtype=str)\n",
        "print(super_catalogue)"
      ],
      "metadata": {
        "colab": {
          "base_uri": "https://localhost:8080/"
        },
        "id": "kdy9VV05w9hn",
        "outputId": "937cd9b2-1e2c-4aa5-f062-bd07b62c208c"
      },
      "execution_count": 270,
      "outputs": [
        {
          "output_type": "stream",
          "name": "stdout",
          "text": [
            "[['1.0583407' '-52.9162402']\n",
            " ['2.6084425' '-41.5005753']\n",
            " ['2.7302499' '-27.706955']]\n"
          ]
        }
      ]
    },
    {
      "cell_type": "code",
      "source": [
        "# use insert + arange to add the column ID\n",
        "\n",
        "col_data_cat1 = np.insert(super_catalogue, 0, np.arange(start=1, stop=super_catalogue.shape[0]+1, step=1), axis=1)\n",
        "col_data_cat1"
      ],
      "metadata": {
        "colab": {
          "base_uri": "https://localhost:8080/"
        },
        "id": "2gjIJ6cO1G0z",
        "outputId": "2faa1cab-ab73-467a-9f41-008f8d0e29d4"
      },
      "execution_count": 271,
      "outputs": [
        {
          "output_type": "execute_result",
          "data": {
            "text/plain": [
              "array([['1', '1.0583407', '-52.9162402'],\n",
              "       ['2', '2.6084425', '-41.5005753'],\n",
              "       ['3', '2.7302499', '-27.706955']], dtype='<U11')"
            ]
          },
          "metadata": {},
          "execution_count": 271
        }
      ]
    },
    {
      "cell_type": "code",
      "source": [
        "# data_cat1 = np.char.replace(col_data_cat1,'\"','') #this part is needed here but not in grok, but not needed with updated data\n",
        "# data_cat1"
      ],
      "metadata": {
        "colab": {
          "base_uri": "https://localhost:8080/"
        },
        "id": "ka4Ys4u611G4",
        "outputId": "94f18411-aa84-44cd-cba3-c037e4cc5f9c"
      },
      "execution_count": null,
      "outputs": [
        {
          "output_type": "execute_result",
          "data": {
            "text/plain": [
              "array([['1', '1.0583407', '-52.9162402'],\n",
              "       ['2', '2.6084425', '-41.5005753'],\n",
              "       ['3', '2.7302499', '-27.706955']], dtype='<U11')"
            ]
          },
          "metadata": {},
          "execution_count": 6
        }
      ]
    },
    {
      "cell_type": "code",
      "source": [
        "# write import_super function\n",
        "\n",
        "def import_super():\n",
        "  import numpy as np\n",
        "\n",
        "  # load data, separate each value out by ',', skip the first row, and grab only RA and Dec column\n",
        "  super_cat = np.loadtxt('super.csv', delimiter=',',skiprows=1, usecols=[0,1], dtype=str)\n",
        "\n",
        "  # generate value starting from 1, ending at the 3 (no. of row + 1), with increment of 1\n",
        "  # insert generated values at index 0 along the column (axis 1) onto the data array above\n",
        "  # define as super_data_id\n",
        "  super_data_id = np.insert(super_cat, 0, np.arange(start=1, stop=super_cat.shape[0]+1, step=1), axis=1)\n",
        "\n",
        "  # data = np.char.replace(col_data_id,'\"','') #this part is needed here but not in grok\n",
        "\n",
        "  holder = []\n",
        "  for d in super_data_id:\n",
        "  #for d in data:\n",
        "    # convert column ID, RA, and DEC from string to int/float and append to holder\n",
        "    col_ID = d[0].astype(int)\n",
        "    ra = d[1].astype(float)\n",
        "    dec = d[2].astype(float)\n",
        "    holder.append([col_ID, ra, dec])\n",
        "\n",
        "    # convert data type from list to tuple via list comprehension\n",
        "    holder_tuple_super = [tuple(row) for row in holder]\n",
        "  return holder_tuple_super"
      ],
      "metadata": {
        "id": "x63ltzrYsMNb"
      },
      "execution_count": 272,
      "outputs": []
    },
    {
      "cell_type": "code",
      "source": [
        "import_super()"
      ],
      "metadata": {
        "colab": {
          "base_uri": "https://localhost:8080/"
        },
        "id": "jmqe-qtT1qhG",
        "outputId": "be390e2c-c005-4106-f013-d9a9f53d7e1f"
      },
      "execution_count": 273,
      "outputs": [
        {
          "output_type": "execute_result",
          "data": {
            "text/plain": [
              "[(1, 1.0583407, -52.9162402),\n",
              " (2, 2.6084425, -41.5005753),\n",
              " (3, 2.7302499, -27.706955)]"
            ]
          },
          "metadata": {},
          "execution_count": 273
        }
      ]
    },
    {
      "cell_type": "code",
      "source": [
        "# trying out a different way; enumerate in order to get index number (Col_ID)\n",
        "res = []\n",
        "for i, row in enumerate(super_catalogue, 1):\n",
        "  res.append((i, row[0], row[1])) #combine index, value in row0, row1, and row2 together\n",
        "print(res)"
      ],
      "metadata": {
        "colab": {
          "base_uri": "https://localhost:8080/"
        },
        "id": "s4gG7PE6QpNO",
        "outputId": "16e3d34d-266f-4fbd-8101-860bec22dec6"
      },
      "execution_count": 274,
      "outputs": [
        {
          "output_type": "stream",
          "name": "stdout",
          "text": [
            "[(1, '1.0583407', '-52.9162402'), (2, '2.6084425', '-41.5005753'), (3, '2.7302499', '-27.706955')]\n"
          ]
        }
      ]
    },
    {
      "cell_type": "code",
      "source": [
        "# check results\n",
        "\n",
        "bright_source = import_bss()\n",
        "supercosmos = import_super()\n",
        "\n",
        "bright_source[:5], supercosmos"
      ],
      "metadata": {
        "colab": {
          "base_uri": "https://localhost:8080/"
        },
        "id": "RphSG11YcTf8",
        "outputId": "7501ed25-4a8b-4d15-bc98-fae2723d0573"
      },
      "execution_count": 275,
      "outputs": [
        {
          "output_type": "execute_result",
          "data": {
            "text/plain": [
              "([(1, 1.1485416666666666, -47.60530555555556),\n",
              "  (2, 2.6496666666666666, -30.463416666666667),\n",
              "  (3, 2.7552916666666665, -26.209194444444442),\n",
              "  (4, 3.2495416666666666, -39.907333333333334),\n",
              "  (5, 6.4549166666666675, -26.03686111111111)],\n",
              " [(1, 1.0583407, -52.9162402),\n",
              "  (2, 2.6084425, -41.5005753),\n",
              "  (3, 2.7302499, -27.706955)])"
            ]
          },
          "metadata": {},
          "execution_count": 275
        }
      ]
    },
    {
      "cell_type": "markdown",
      "source": [
        "### Learnings:\n",
        "\n",
        "*   How to insert - ```np.insert(x)```\n",
        "*   Changing data type - ```f[0].astype(int)```\n",
        "*   ```genfromtxt```, ```loadtxt```\n",
        "\n",
        ">>> Note, ```genfromtxt``` will create 1D array esp if you have mutilple data types\n",
        ">>> <p>To access the column then, you have to call the column as there is only 1D, i.e. call ```a['f2']``` for third column</p>\n",
        "\n",
        "\n",
        "*   Converting array to tuple using for loop - ```[tuple(row) for row in holder]```\n",
        "*   Character replace - ```np.char.replace(x)```\n",
        "*   Checking shape & size - ```np.shape(arr), np.size(arr)```\n",
        "*   Use ```enumerate``` to get indices + loop through - ```for i, row in enumerate(arr, 1):```\n",
        "\n"
      ],
      "metadata": {
        "id": "hGLKX8gsPx0-"
      }
    },
    {
      "cell_type": "markdown",
      "source": [
        "### Task iv - Find the closest object"
      ],
      "metadata": {
        "id": "5wGAC7tAccfj"
      }
    },
    {
      "cell_type": "markdown",
      "source": [
        "Write a ```find_closest``` function that takes a catalogue and the position of a target source input (a right ascension and declination) and finds the closest match for the target source within the BSS catalogue.\n",
        "\n",
        "Your function should return the ID of the closest object and the distance to that object.\n",
        "\n",
        "The right ascension and declination are in degrees. The catalogue list has been loaded by import_bss from the previous question. The full 320 object BSS catalogue is contained in ```bss.dat``` for you to test your code on.\n",
        "\n",
        "Here's an example of how your function should work:"
      ],
      "metadata": {
        "id": "1D_kcvI_WNMr"
      }
    },
    {
      "cell_type": "markdown",
      "source": [
        "![Capture04.JPG](data:image/jpeg;base64,/9j/4AAQSkZJRgABAQEAwADAAAD/4RDaRXhpZgAATU0AKgAAAAgABAE7AAIAAAAFAAAISodpAAQAAAABAAAIUJydAAEAAAAKAAAQyOocAAcAAAgMAAAAPgAAAAAc6gAAAAgAAAAAAAAAAAAAAAAAAAAAAAAAAAAAAAAAAAAAAAAAAAAAAAAAAAAAAAAAAAAAAAAAAAAAAAAAAAAAAAAAAAAAAAAAAAAAAAAAAAAAAAAAAAAAAAAAAAAAAAAAAAAAAAAAAAAAAAAAAAAAAAAAAAAAAAAAAAAAAAAAAAAAAAAAAAAAAAAAAAAAAAAAAAAAAAAAAAAAAAAAAAAAAAAAAAAAAAAAAAAAAAAAAAAAAAAAAAAAAAAAAAAAAAAAAAAAAAAAAAAAAAAAAAAAAAAAAAAAAAAAAAAAAAAAAAAAAAAAAAAAAAAAAAAAAAAAAAAAAAAAAAAAAAAAAAAAAAAAAAAAAAAAAAAAAAAAAAAAAAAAAAAAAAAAAAAAAAAAAAAAAAAAAAAAAAAAAAAAAAAAAAAAAAAAAAAAAAAAAAAAAAAAAAAAAAAAAAAAAAAAAAAAAAAAAAAAAAAAAAAAAAAAAAAAAAAAAAAAAAAAAAAAAAAAAAAAAAAAAAAAAAAAAAAAAAAAAAAAAAAAAAAAAAAAAAAAAAAAAAAAAAAAAAAAAAAAAAAAAAAAAAAAAAAAAAAAAAAAAAAAAAAAAAAAAAAAAAAAAAAAAAAAAAAAAAAAAAAAAAAAAAAAAAAAAAAAAAAAAAAAAAAAAAAAAAAAAAAAAAAAAAAAAAAAAAAAAAAAAAAAAAAAAAAAAAAAAAAAAAAAAAAAAAAAAAAAAAAAAAAAAAAAAAAAAAAAAAAAAAAAAAAAAAAAAAAAAAAAAAAAAAAAAAAAAAAAAAAAAAAAAAAAAAAAAAAAAAAAAAAAAAAAAAAAAAAAAAAAAAAAAAAAAAAAAAAAAAAAAAAAAAAAAAAAAAAAAAAAAAAAAAAAAAAAAAAAAAAAAAAAAAAAAAAAAAAAAAAAAAAAAAAAAAAAAAAAAAAAAAAAAAAAAAAAAAAAAAAAAAAAAAAAAAAAAAAAAAAAAAAAAAAAAAAAAAAAAAAAAAAAAAAAAAAAAAAAAAAAAAAAAAAAAAAAAAAAAAAAAAAAAAAAAAAAAAAAAAAAAAAAAAAAAAAAAAAAAAAAAAAAAAAAAAAAAAAAAAAAAAAAAAAAAAAAAAAAAAAAAAAAAAAAAAAAAAAAAAAAAAAAAAAAAAAAAAAAAAAAAAAAAAAAAAAAAAAAAAAAAAAAAAAAAAAAAAAAAAAAAAAAAAAAAAAAAAAAAAAAAAAAAAAAAAAAAAAAAAAAAAAAAAAAAAAAAAAAAAAAAAAAAAAAAAAAAAAAAAAAAAAAAAAAAAAAAAAAAAAAAAAAAAAAAAAAAAAAAAAAAAAAAAAAAAAAAAAAAAAAAAAAAAAAAAAAAAAAAAAAAAAAAAAAAAAAAAAAAAAAAAAAAAAAAAAAAAAAAAAAAAAAAAAAAAAAAAAAAAAAAAAAAAAAAAAAAAAAAAAAAAAAAAAAAAAAAAAAAAAAAAAAAAAAAAAAAAAAAAAAAAAAAAAAAAAAAAAAAAAAAAAAAAAAAAAAAAAAAAAAAAAAAAAAAAAAAAAAAAAAAAAAAAAAAAAAAAAAAAAAAAAAAAAAAAAAAAAAAAAAAAAAAAAAAAAAAAAAAAAAAAAAAAAAAAAAAAAAAAAAAAAAAAAAAAAAAAAAAAAAAAAAAAAAAAAAAAAAAAAAAAAAAAAAAAAAAAAAAAAAAAAAAAAAAAAAAAAAAAAAAAAAAAAAAAAAAAAAAAAAAAAAAAAAAAAAAAAAAAAAAAAAAAAAAAAAAAAAAAAAAAAAAAAAAAAAAAAAAAAAAAAAAAAAAAAAAAAAAAAAAAAAAAAAAAAAAAAAAAAAAAAAAAAAAAAAAAAAAAAAAAAAAAAAAAAAAAAAAAAAAAAAAAAAAAAAAAAAAAAAAAAAAAAAAAAAAAAAAAAAAAAAAAAAAAAAAAAAAAAAAAAAAAAAAAAAAAAAAAAAAAAAAAAAAAAAAAAAAAAAAAAAAAAAAAAAAAAAAAAAAAAAAAAAAAAAAAAAAAAAAAAAAAAAAAAAAAAAAAAAAAAAAAAAAAAAAAAAAAAAAAAAAAAAAAAAAAAAAAAAAAAAAAAAAAAAAAAAAAAAAAAAAAAAAAAAAAAAAAAAAAAAAAAAAAAAAAAAAAAAAAAAAAAAAAAAAAAAAAAAAAAAAAAAAAAAAAAAAAAAAAAAAAAAAAAAAAAAAAAAAAAAAAAAAAAAAAAAAAAAAAAAAAAAAAAAAAAAAAAAAAAAAAAAAAAAAAAAAAAAAAAAAAAAAAAAAAAAAAAAAAAAAAAAAAAAAAAAAAAAAAAAAAAAAAAAAAAAAAAAAAAAAAAAAAAAAAAAAAAAAAAAAAAAAAAAAAAAAAAAAAAAAAAAAAAAAAAAAAAAAAAAAAAAAAAAAAAAAAAAAAAAAAAAAAAAAAAAAAAAAAAAAAAAAAAAAAAAAAAAAAAAAAAAAAAAAAAAAAAAAAAAAAAAAAAAAAAAAAAAAAAAAAAAAAAAAAAAAAAAAAAAAAAAAAAAAAAAAAAAAAAAAAAAAAAAAAAAAAAAAAAAAAAAAAAAAAAAAAAAAAAAAAAAAAAAAAAAAAAAAAAAAAAAAAAAAAAAAAAAAAAAAAAAAAAAAAAAAAAAAAAAAAAAAAAAAAAAAAAAAAAAAAAAAAAAAAAAAAAAAAAAAAAAAAAAAAAAAAAAAAAAAAAAAAAAAAAAAAAAAAAAAAAAAAAAAAAAAAAAAAAAAAAAAAAAAAAAAAAAAAAAAAAAAAAAAAAAAAAAAAAAAAAAAAAAAAAAAAAAAHVzZXIAAAAFkAMAAgAAABQAABCekAQAAgAAABQAABCykpEAAgAAAAM4NgAAkpIAAgAAAAM4NgAA6hwABwAACAwAAAiSAAAAABzqAAAACAAAAAAAAAAAAAAAAAAAAAAAAAAAAAAAAAAAAAAAAAAAAAAAAAAAAAAAAAAAAAAAAAAAAAAAAAAAAAAAAAAAAAAAAAAAAAAAAAAAAAAAAAAAAAAAAAAAAAAAAAAAAAAAAAAAAAAAAAAAAAAAAAAAAAAAAAAAAAAAAAAAAAAAAAAAAAAAAAAAAAAAAAAAAAAAAAAAAAAAAAAAAAAAAAAAAAAAAAAAAAAAAAAAAAAAAAAAAAAAAAAAAAAAAAAAAAAAAAAAAAAAAAAAAAAAAAAAAAAAAAAAAAAAAAAAAAAAAAAAAAAAAAAAAAAAAAAAAAAAAAAAAAAAAAAAAAAAAAAAAAAAAAAAAAAAAAAAAAAAAAAAAAAAAAAAAAAAAAAAAAAAAAAAAAAAAAAAAAAAAAAAAAAAAAAAAAAAAAAAAAAAAAAAAAAAAAAAAAAAAAAAAAAAAAAAAAAAAAAAAAAAAAAAAAAAAAAAAAAAAAAAAAAAAAAAAAAAAAAAAAAAAAAAAAAAAAAAAAAAAAAAAAAAAAAAAAAAAAAAAAAAAAAAAAAAAAAAAAAAAAAAAAAAAAAAAAAAAAAAAAAAAAAAAAAAAAAAAAAAAAAAAAAAAAAAAAAAAAAAAAAAAAAAAAAAAAAAAAAAAAAAAAAAAAAAAAAAAAAAAAAAAAAAAAAAAAAAAAAAAAAAAAAAAAAAAAAAAAAAAAAAAAAAAAAAAAAAAAAAAAAAAAAAAAAAAAAAAAAAAAAAAAAAAAAAAAAAAAAAAAAAAAAAAAAAAAAAAAAAAAAAAAAAAAAAAAAAAAAAAAAAAAAAAAAAAAAAAAAAAAAAAAAAAAAAAAAAAAAAAAAAAAAAAAAAAAAAAAAAAAAAAAAAAAAAAAAAAAAAAAAAAAAAAAAAAAAAAAAAAAAAAAAAAAAAAAAAAAAAAAAAAAAAAAAAAAAAAAAAAAAAAAAAAAAAAAAAAAAAAAAAAAAAAAAAAAAAAAAAAAAAAAAAAAAAAAAAAAAAAAAAAAAAAAAAAAAAAAAAAAAAAAAAAAAAAAAAAAAAAAAAAAAAAAAAAAAAAAAAAAAAAAAAAAAAAAAAAAAAAAAAAAAAAAAAAAAAAAAAAAAAAAAAAAAAAAAAAAAAAAAAAAAAAAAAAAAAAAAAAAAAAAAAAAAAAAAAAAAAAAAAAAAAAAAAAAAAAAAAAAAAAAAAAAAAAAAAAAAAAAAAAAAAAAAAAAAAAAAAAAAAAAAAAAAAAAAAAAAAAAAAAAAAAAAAAAAAAAAAAAAAAAAAAAAAAAAAAAAAAAAAAAAAAAAAAAAAAAAAAAAAAAAAAAAAAAAAAAAAAAAAAAAAAAAAAAAAAAAAAAAAAAAAAAAAAAAAAAAAAAAAAAAAAAAAAAAAAAAAAAAAAAAAAAAAAAAAAAAAAAAAAAAAAAAAAAAAAAAAAAAAAAAAAAAAAAAAAAAAAAAAAAAAAAAAAAAAAAAAAAAAAAAAAAAAAAAAAAAAAAAAAAAAAAAAAAAAAAAAAAAAAAAAAAAAAAAAAAAAAAAAAAAAAAAAAAAAAAAAAAAAAAAAAAAAAAAAAAAAAAAAAAAAAAAAAAAAAAAAAAAAAAAAAAAAAAAAAAAAAAAAAAAAAAAAAAAAAAAAAAAAAAAAAAAAAAAAAAAAAAAAAAAAAAAAAAAAAAAAAAAAAAAAAAAAAAAAAAAAAAAAAAAAAAAAAAAAAAAAAAAAAAAAAAAAAAAAAAAAAAAAAAAAAAAAAAAAAAAAAAAAAAAAAAAAAAAAAAAAAAAAAAAAAAAAAAAAAAAAAAAAAAAAAAAAAAAAAAAAAAAAAAAAAAAAAAAAAAAAAAAAAAAAAAAAAAAAAAAAAAAAAAAAAAAAAAAAAAAAAAAAAAAAAAAAAAAAAAAAAAAAAAAAAAAAAAAAAAAAAAAAAAAAAAAAAAAAAAAAAAAAAAAAAAAAAAAAAAAAAAAAAAAAAAAAAAAAAAAAAAAAAAAAAAAAAAAAAAAAAAAAAAAAAAAAAAAAAAAAAAAAAAAAAAAAAAAAAAAAAAAAAAAAAAAAAAAAAAAAAAAAAAAAAAAAAAAAAAAAAAAAAAAAAAAAAAAAAAAAAAAAAAAAAAAAAAAAAAAAAAAAAAAAAAAAAAAAAAAAAAAAAAAAAAAAAAAAAAAAAAAAAAAAAAAAAAAAAAAAAAAAAAAAAAAAAAAAAAAAAAAAAAAAAAAAAAAAAAAAAAAAAAAAAAAAAAAAAAAAAAAAAAAAAAAAAAAAAAAAAAAAAAAAAAAAAAAAAAAAAAAAAAAAAAAAAAAAAAAAAAAAAAAAAAAAAAAAAAAAAAAAAAAAAAAAAAAAAAAAAAAAAAAAAAAAAAAAAAAAAAAAAAAAAAAAAAAAAAAAAAAAAAAAAAAAAAAAAAAAAAAAAAAAAAAAAAAAAAAAAAAAAAAAAAAAAAAAAAAAAAAAAAAAAAAAAAAAAAAAAAAAAAAAAAAAAAAAAAAAAAAAAAAAAAAAAAAAAAAAAAAAAAAAAAAAAAAAAAAAAAAAAAAAAAAAAAAAAAAAAAAAAAAAAAAAAAAAAAAAAAAAAAAAAAAAAAAAAAAAAAAAAAAAAAAAAAAAAAAAAAAAAAAAAAAAAAAAAAAAAAAAAAAAAAAAAAAAAAAAAAAAAAAAAAAAAAAAAAAAAAAAAAAAAAAAAAAAAAAAAAAAAAAAAAAAAAAAAAAAAAAAAAAAAAAAAAAAAAAAAAAAAAAAAAAAAAAAAAAAAAAAAAAAAAAAAAAAAAAAMjAyMzowODowNiAyMDoxNjo0MgAyMDIzOjA4OjA2IDIwOjE2OjQyAAAAdQBzAGUAcgAAAP/hCxdodHRwOi8vbnMuYWRvYmUuY29tL3hhcC8xLjAvADw/eHBhY2tldCBiZWdpbj0n77u/JyBpZD0nVzVNME1wQ2VoaUh6cmVTek5UY3prYzlkJz8+DQo8eDp4bXBtZXRhIHhtbG5zOng9ImFkb2JlOm5zOm1ldGEvIj48cmRmOlJERiB4bWxuczpyZGY9Imh0dHA6Ly93d3cudzMub3JnLzE5OTkvMDIvMjItcmRmLXN5bnRheC1ucyMiPjxyZGY6RGVzY3JpcHRpb24gcmRmOmFib3V0PSJ1dWlkOmZhZjViZGQ1LWJhM2QtMTFkYS1hZDMxLWQzM2Q3NTE4MmYxYiIgeG1sbnM6ZGM9Imh0dHA6Ly9wdXJsLm9yZy9kYy9lbGVtZW50cy8xLjEvIi8+PHJkZjpEZXNjcmlwdGlvbiByZGY6YWJvdXQ9InV1aWQ6ZmFmNWJkZDUtYmEzZC0xMWRhLWFkMzEtZDMzZDc1MTgyZjFiIiB4bWxuczp4bXA9Imh0dHA6Ly9ucy5hZG9iZS5jb20veGFwLzEuMC8iPjx4bXA6Q3JlYXRlRGF0ZT4yMDIzLTA4LTA2VDIwOjE2OjQyLjg1NTwveG1wOkNyZWF0ZURhdGU+PC9yZGY6RGVzY3JpcHRpb24+PHJkZjpEZXNjcmlwdGlvbiByZGY6YWJvdXQ9InV1aWQ6ZmFmNWJkZDUtYmEzZC0xMWRhLWFkMzEtZDMzZDc1MTgyZjFiIiB4bWxuczpkYz0iaHR0cDovL3B1cmwub3JnL2RjL2VsZW1lbnRzLzEuMS8iPjxkYzpjcmVhdG9yPjxyZGY6U2VxIHhtbG5zOnJkZj0iaHR0cDovL3d3dy53My5vcmcvMTk5OS8wMi8yMi1yZGYtc3ludGF4LW5zIyI+PHJkZjpsaT51c2VyPC9yZGY6bGk+PC9yZGY6U2VxPg0KCQkJPC9kYzpjcmVhdG9yPjwvcmRmOkRlc2NyaXB0aW9uPjwvcmRmOlJERj48L3g6eG1wbWV0YT4NCiAgICAgICAgICAgICAgICAgICAgICAgICAgICAgICAgICAgICAgICAgICAgICAgICAgICAgICAgICAgICAgICAgICAgICAgICAgICAgICAgICAgICAgICAgICAgICAgICAgICAKICAgICAgICAgICAgICAgICAgICAgICAgICAgICAgICAgICAgICAgICAgICAgICAgICAgICAgICAgICAgICAgICAgICAgICAgICAgICAgICAgICAgICAgICAgICAgICAgICAgIAogICAgICAgICAgICAgICAgICAgICAgICAgICAgICAgICAgICAgICAgICAgICAgICAgICAgICAgICAgICAgICAgICAgICAgICAgICAgICAgICAgICAgICAgICAgICAgICAgICAgCiAgICAgICAgICAgICAgICAgICAgICAgICAgICAgICAgICAgICAgICAgICAgICAgICAgICAgICAgICAgICAgICAgICAgICAgICAgICAgICAgICAgICAgICAgICAgICAgICAgICAKICAgICAgICAgICAgICAgICAgICAgICAgICAgICAgICAgICAgICAgICAgICAgICAgICAgICAgICAgICAgICAgICAgICAgICAgICAgICAgICAgICAgICAgICAgICAgICAgICAgIAogICAgICAgICAgICAgICAgICAgICAgICAgICAgICAgICAgICAgICAgICAgICAgICAgICAgICAgICAgICAgICAgICAgICAgICAgICAgICAgICAgICAgICAgICAgICAgICAgICAgCiAgICAgICAgICAgICAgICAgICAgICAgICAgICAgICAgICAgICAgICAgICAgICAgICAgICAgICAgICAgICAgICAgICAgICAgICAgICAgICAgICAgICAgICAgICAgICAgICAgICAKICAgICAgICAgICAgICAgICAgICAgICAgICAgICAgICAgICAgICAgICAgICAgICAgICAgICAgICAgICAgICAgICAgICAgICAgICAgICAgICAgICAgICAgICAgICAgICAgICAgIAogICAgICAgICAgICAgICAgICAgICAgICAgICAgICAgICAgICAgICAgICAgICAgICAgICAgICAgICAgICAgICAgICAgICAgICAgICAgICAgICAgICAgICAgICAgICAgICAgICAgCiAgICAgICAgICAgICAgICAgICAgICAgICAgICAgICAgICAgICAgICAgICAgICAgICAgICAgICAgICAgICAgICAgICAgICAgICAgICAgICAgICAgICAgICAgICAgICAgICAgICAKICAgICAgICAgICAgICAgICAgICAgICAgICAgICAgICAgICAgICAgICAgICAgICAgICAgICAgICAgICAgICAgICAgICAgICAgICAgICAgICAgICAgICAgICAgICAgICAgICAgIAogICAgICAgICAgICAgICAgICAgICAgICAgICAgICAgICAgICAgICAgICAgICAgICAgICAgICAgICAgICAgICAgICAgICAgICAgICAgICAgICAgICAgICAgICAgICAgICAgICAgCiAgICAgICAgICAgICAgICAgICAgICAgICAgICAgICAgICAgICAgICAgICAgICAgICAgICAgICAgICAgICAgICAgICAgICAgICAgICAgICAgICAgICAgICAgICAgICAgICAgICAKICAgICAgICAgICAgICAgICAgICAgICAgICAgICAgICAgICAgICAgICAgICAgICAgICAgICAgICAgICAgICAgICAgICAgICAgICAgICAgICAgICAgICAgICAgICAgICAgICAgIAogICAgICAgICAgICAgICAgICAgICAgICAgICAgICAgICAgICAgICAgICAgICAgICAgICAgICAgICAgICAgICAgICAgICAgICAgICAgICAgICAgICAgICAgICAgICAgICAgICAgCiAgICAgICAgICAgICAgICAgICAgICAgICAgICAgICAgICAgICAgICAgICAgICAgICAgICAgICAgICAgICAgICAgICAgICAgICAgICAgICAgICAgICAgICAgICAgICAgICAgICAKICAgICAgICAgICAgICAgICAgICAgICAgICAgICAgICAgICAgICAgICAgICAgICAgICAgICAgICAgICAgICAgICAgICAgICAgICAgICAgICAgICAgICAgICAgICAgICAgICAgIAogICAgICAgICAgICAgICAgICAgICAgICAgICAgICAgICAgICAgICAgICAgICAgICAgICAgICAgICAgICAgICAgICAgICAgICAgICAgICAgICAgICAgICAgICAgICAgICAgICAgCiAgICAgICAgICAgICAgICAgICAgICAgICAgICAgICAgICAgICAgICAgICAgICAgICAgICAgICAgICAgICAgICAgICAgICAgICAgICAgICAgICAgICAgICAgICAgICAgICAgICAKICAgICAgICAgICAgICAgICAgICAgICAgICAgICAgICAgICAgICAgICAgICAgICAgICAgICAgICAgICAgICAgICAgICAgICAgICAgICAgICAgICAgICAgICAgICAgICAgICAgIAogICAgICAgICAgICAgICAgICAgICAgICAgICAgPD94cGFja2V0IGVuZD0ndyc/Pv/bAEMABwUFBgUEBwYFBggHBwgKEQsKCQkKFQ8QDBEYFRoZGBUYFxseJyEbHSUdFxgiLiIlKCkrLCsaIC8zLyoyJyorKv/bAEMBBwgICgkKFAsLFCocGBwqKioqKioqKioqKioqKioqKioqKioqKioqKioqKioqKioqKioqKioqKioqKioqKioqKv/AABEIANMBQQMBIgACEQEDEQH/xAAfAAABBQEBAQEBAQAAAAAAAAAAAQIDBAUGBwgJCgv/xAC1EAACAQMDAgQDBQUEBAAAAX0BAgMABBEFEiExQQYTUWEHInEUMoGRoQgjQrHBFVLR8CQzYnKCCQoWFxgZGiUmJygpKjQ1Njc4OTpDREVGR0hJSlNUVVZXWFlaY2RlZmdoaWpzdHV2d3h5eoOEhYaHiImKkpOUlZaXmJmaoqOkpaanqKmqsrO0tba3uLm6wsPExcbHyMnK0tPU1dbX2Nna4eLj5OXm5+jp6vHy8/T19vf4+fr/xAAfAQADAQEBAQEBAQEBAAAAAAAAAQIDBAUGBwgJCgv/xAC1EQACAQIEBAMEBwUEBAABAncAAQIDEQQFITEGEkFRB2FxEyIygQgUQpGhscEJIzNS8BVictEKFiQ04SXxFxgZGiYnKCkqNTY3ODk6Q0RFRkdISUpTVFVWV1hZWmNkZWZnaGlqc3R1dnd4eXqCg4SFhoeIiYqSk5SVlpeYmZqio6Slpqeoqaqys7S1tre4ubrCw8TFxsfIycrS09TV1tfY2dri4+Tl5ufo6ery8/T19vf4+fr/2gAMAwEAAhEDEQA/APoCG6maIFnyfoKf9ol/vfoKrQHFuD9aZY31tqVnHd2MyzQSDKuv6gjqCOhB5B4NbtK9jBc3LcufaJf736Cj7RL/AHv0FU7S+tr9JGtJllEUjRSAdUdTypHUH6+xotr62u5Z4reZXkt38uZOjI2M8g+o5B7jpS90q01e/QufaJf736Cj7RL/AHv0FR0U7Im7JPtEv979BR9ol/vfoKjqjqmqwaRDbyXKSMLi5itl8sA4aRgoJyRxk80WQXe5pfaJf736Cj7RL/e/QVHRRZBdkn2iX+9+go+0S/3v0FR0UWQXZJ9ol/vfoKPtEv8Ae/QVmWF3qFxfX8V9pn2OCCUJaz/aFk+1JtBL7RymDkYPpmr9FkF2SfaJf736Cj7RL/e/QVHRRZBdkn2iX+9+go+0S/3v0FR1Qv8AWLfTtQ0yznSRpNSnaCEoAQrLG8hLZPAwh6Z5xRyoLs0/tEv979BR9ol/vfoKjrI1jXP7J1TRbP7P5v8Aat21tv37fKxE8m7GDn/V4xx1zRZBdm39ol/vfoKPtEv979BUdFFkF2SfaJf736Cj7RL/AHv0FR1i6TrU2s6xqAtY4xpdk5thOclp51Pz7ewRfu56lt3TbyWV7Bd2ub32iX+9+go+0S/3v0FYOm6zPJ4hv9F1OOOO5hH2i2ePIWe3YkA8/wASkbWHT7p43YG1RZNXC7TsSfaJf736Cj7RL/e/QVHRRZBdkn2iX+9+go+0S/3v0FR0UWQXZJ9ol/vfoKPtEv8Ae/QVHRRZBdkn2iX+9+go+0S/3v0FR0UWQXZJ9ol/vfoKPtEv979BUdFFkF2SfaJf736Cj7RL/e/QVHRRZBdkn2iX+9+go+0S/wB79BUdFFkF2SfaJf736Cio6KLILsigOLcH61iaPZXM+rzayYn0yC4X/jzxhp/SSUHhWx0Aw2PvE/dXct/9Qv4/zqSiSvK5UJuMWl1Oet7K5vvEz6okL6ZBFmEnGJL4A4y6ngIOdpI3nsVH3iexudU8UR3cET6dHY5je7xiW7H/ADzCnjywTnLA852gferoaKlQRp7eV7pdLfL9fn/lYrg/EllZSeN3uPF2jXOr6ObGNLFF097+GGbe/m7okViHK+XhyvQEAjkHvKKoxTPPPG0a3l3plgNDtptM+yGSF7vw9calGr5ULGIUKiFgp+8+OOOMGqFx4XS8+F/h2bX/AA9/aF/pslt9ojnshPcJAso8xAp3MRt6qC2QOM9/UqKVuvnf8b/8AXl5WMzw8mlR6LEugaf/AGdZbm2W/wBgaz2nPJ8plUjJ5zjnrSeIrO5v9GkgsofOlZlIT+0prHOD/wA9oQXH0A56GtSiqeoLQ5rwrpGoaZLcnULT7OJFUKf+Ehu9SzjPadFCfVevfpXRSsqwu0ilkCksoUsSMeg5P0p9FD2sHU838Ktp9re+KrHRtEvtOtb2QS2cQ0S4tYWAtkVsbo1VTvDcHBJ6ZzXMaT4QurZNMu/7Fu0u4rfQJGkaB9yzeeRcsc/xhAA5PIXg4HFe30U4Wi7+n4Dk+ZWf9bf5Hi+habY6jZyjStLun8Sx+IZ5I9Seym2W8a3zM4W4YbAnl7wY0bksflJJrV13SLe5k8QxaloN7eeJridzpGoLYSSeUCo+zmO5VdsARuSCyEEMcHOT6Rpul2ekWrW+nQ+TE80k7LuLZeRy7nJJ6sxOOnPFW6m39fdt9w+Z3v53/Pf79jhH8Kxaz8RLt/Een/b7QaLaxHzoy1tLKJJd3yn5WYZBGcld3GM1U8U+C9GtP+EXuLzRf7bt9MnEF5PNYi9uZIBBIibwqFpAHZDgA4POOM16NRR/X4v/ADsK/wCVvwsU9JWyXSLZdKtfsdmIx5MH2Zrfy19PLYKU+hArlPiNZR3c/hqS9sby90+DU2e8S0t5Zz5Zt5V+ZIgWKkkKRggg4PBNdDqnhyy1e5We7n1ON1XYBaarc2y4/wB2KRQTz1xmptK0a10aORLSW+kEhBb7Zfz3RGPQyuxH4YpgtDiINEh/4RDxLDFBeaPod7dJJp9tb6dIzxrtjDf6KqlhG8ituj2jKlsgbs1b8K2yr4X120OlJpFkQwS80fR5tOlm3R4ZltmBkDr0B+bdxjpiu8oqeXS3lYfM9PJ3OA+HVoNPv7q3tdGsorYW8e7UoNAl0mSVwSNjxyDMhx829eASRgZFa3gFhDot5psvy3dhqN1HcKcZy8rSKxx/eSRW/GupqqunWi6q+pJCq3kkIgeUEgugJIBHQ4JOM9MnHU1XX+v6/r75/r+v6/AwZh9s+Klqbc5Gm6VMLkjsZpI/LU++IXOPp611FVbLTbTTvtBs4RGbmZriZsktJI3ViTyeAAPQAAYAAq1Qtkv63uN7hRRRQIKKKKACiiigAooooAKKKKACiiigAooooAKKKKAIoDi3B+tMsb621Kzju7GZZoJBlXX9QR1BHQg8g8GnwHFuD9axNHsrmfV5tZMT6ZBcL/x54w0/pJKDwrY6AYbH3ifuqpN81jSEYuDbdrf1Y2LS+tr9JGtJllEUjRSAdUdTypHUH6+xotr62u5Z4reZXkt38uZOjI2M8g+o5B7jpWNb2VzfeJn1RIX0yCLMJOMSXwBxl1PAQc7SRvPYqPvE9jc6p4oju4In06OxzG93jEt2P+eYU8eWCc5YHnO0D71QpPTT+u/9f8Pq6ULtX6fc+3n8v8zoax9f1q40trG206yS9v8AUJjFBFLP5MY2qXZncKxACqeikk4HqRsVxfijwdo+reMNCvLrw7Y3pknl+2zyWKSblEDBPMYqcjIUDPfGKt3ObQ3ru+1q20WGeHRobvUGkRZbSC9ARFLYZhI6Lu2rzjaCcYrWrgPiLYaPDoun20GgSXF3Zz2z2JstGkn+yxpPGXCNHGRH8injIyB0NWNb0238U+MPDFxPp1xc6V9lvfOS5tZI058rassbgcEgkK45xnHAovfbuUo92dvWXpGtf2rf6xbeR5X9mXotd2/d5n7qOTdjAx/rMY56Z71wi6U1nodnZ6lpF1N4ft9cvftGnxWbyr5G+XyP3Kgl4g2whQpH3TjAzW78PNPTT/8AhIvsujSaNZT6r5tpbNbCAGP7PCNyoOACQxx1ByCAQQHD3rvy/wAv82KStp5/5nZUjZ2naATjgE4rL8UQ6lceE9Vh0F2TU3tJVtWVgpEhU7cE8A571jeEIvDFkkjaH4eudMu0tx9pkn0eaGaQDqGlZP3zZ64ZiTzz1pB0uaPh3XL7VbvVbPVbC3srrTbhIXFtdNcI+6JZAQzRoej4xjtW7XD+F9VW58VeJfJs9UtzqFxHLay3WlXMCMFto0JLSRgD5lIwcE44BrB0TSkaLQFtdDvLTxbb3ETatqU2nyRlwp/0gvc4CzK/IUBnzuUgYXKkbu3y/H/LqOSS1X9af1Y9WorzUWUNt8R/tVlpa6tcTX+ZJr7w9Ok9sMYZo79lEZRAPlXHI+UMeKytf0W+ufFGs/2ni3uZrgHTtRHhm61CaCLauww3EMm2Lawb5SFIOSchslJt28/+B9+/4MTVm0ev1Qv9Yt9O1DTLOdJGk1KdoISgBCssbyEtk8DCHpnnFcP4/wBNgm1eC6ktl1a6istiWN/4cn1G2c7iQUeMbYHY8MxJ425XgZm8ZeHdNvrnw1rer+FoLkW84GoxR2AvJI4jbyKqFUUtIqyMvABAxnHFUn3/AK/r/hwt+X9f116HYa9rMHh/RZ9RuEeUR4WOGPG+aRiFSNc92YgD61Y083p06A6osK3hQGZbckxq3cKTyQOme/XA6Vyvif7FaeDNLv8ATrVrTStNvba6e3W1Nv5UCyDcTEwUqFB3EYBG2rPjq2lvNN07NtcX2lLeo+pW1qpdprfa3GxeZF3lCyDJZQRhuhXR372/LX8fwEtXbyv+en4fidVQTgVw+pPp1r8P7hfCXhvy7SS5jjlszo08ICs6h5GtgqPKoU5KgfMARnGazvAvh+KebxBZ6lotr/Y10LeSG3OiPY2srAMGYW0rNhsquScE7VOMYJHezsPomzu9E1aDXtDs9Vs0kSC8iWWNZQAwB9QCRn8avVwXwx0vSNH0m3sYvD503W7a28m+nOkvB5pVsHE+wLICQCMMcjmum0nxHa6vrGr6ZBDcw3OkzJFOJowofcgZWQgnKkH2PtT06BLRs16wrTxdp994pOhWsd08vkSzC5MW2FvLdUdVYkFiC45AK9RnIIG7XBXWsRH4t2NyLHWDbw6dcWTzjR7oxiVpoio3+XgqQjHeDtwOtC+JJ+f5P9Q+y3/W5r6/4ym8Ow3Nxd+GNYms7cgG6ge0KyZIA2qZw5JJAA25J7VNfeKnttcfSbLQNU1O5ito7mX7K1uqxq7MFBMsqZOUbpmodXtZtc8Y6bYyW8w03Tf+JhPIyERzTdIUBIw207nODwVSs7xlZ6W+oTyw2/iL+3pbQRW8uk/bI0Ygt5as6Yg4Zj/rDgZ+bipvaN/+H/q5Wjdv+G/qx2yksoJUqSMlT1HtxVHVdQudPije00e91VmbBSzeFSnufNkQY+hNUZdWvtC8N6bLq9leapfv5MFyNMt/MIkYANJtyMIDkk9hT/E9xp8enpDqq6uYpX4OlRXbSAj1a2G5R9SAactL2IjqW9F1e313SYtQtFkRJCytHKuHjdWKujAEjKspBwSMjgnrV+uV8NPc+H/Ac099Y3IiszcTW9osafaPs4ZmjUqMAuVxwfmyfmO7Jrc0bVrbXdDstVsd/wBmvYEni8xdrBWGRkevNPf+u4F6kdiqMwUuQMhRjJ9uaZPG01vJHHM8DuhVZYwpZCR94bgRkdeQR7GqOnWNzpUE7X2s6hqwI3A3UUO5AByFEMSZz6EE+lIZV03xN9s1gaXf6PqGkXckLTwpeGFhMikBirRSOMgsuQSD83GecR2/i2OTWLewvNJ1LT1vHeOzubtI1juWUE7QocupKhmAdV4B78VjaNBFceOItS0GDWVtmglXUJtWiuFHJBjSIXIDr8244jwmB8wztxW07W/+Ej8aQXur2GsWUFjM8emWcujXQBcgobiWQxbFyCQo3YAJLHJwonql/X9f1sD2bPQq58eKpJteu9MsdA1S8FlOkFxdxNbLEjMiv/HMrkBXBOFPtmro1rPihtF/s3UBttftP28wf6Kfm2+WJM/f77cdOa5DxPZQf2renwrFr8HiaeaN1lhF4lkzgKN8hbFsyhFwepIGB82KfVB0Z1Gra3No2tacl1Eh0y/kFr54yGguDnZu7bH+6D1DbRzu42q5fx3/AKTo9jpkbgXd9qVqsAB5ykqyuw+iRsfwrqKFt8/8v8wfQKKKKBEdv/qF/H+dSVHb/wCoX8f51QsNSl1HU7tYEQWNq3k+Yc7pZR97HbavT3OemOas3dk3skadFZen6/aanqUtnarMTHEswlaPakilioK55Iyp5xgjBBIptprr315JDb6VfNDHO8D3RaERhlOCceZuxkf3afs5dQ5ka1FZtzrIivmtLOyur+aMAzC3CAQ56bmdlGSOcAk45xyM6VS4tK7Gmm7BRRVW+u5rSNWt9Pub4scFbdowV9zvdR+VCV3YG7FqqOq6RbaxAkV3JeRqjbgbS+mtmJxjlonUkexOKfpmow6rp6XduHVWLKySDDIykqyn3BBHGRxxmpLueS2tzJDaTXbgjEUJQMf++2UfrQ4u/KwUla6M/TPDVjpN39otZ9UkfaVxdatdXKYP+xLIy5464zWvWPZ+I4p7q9gu7K509rGJZp2uTEVVWzjlHYZwpOD2qez1WW8jkkTS72OIJvieURr5/oFUvuUn/bC++Kp05LclTi9jRorGi8RM2r22n3WkX9nLcq7o0rQsoCDJJ2SMQOQM46kU228UWtxPB/ot1Ha3Uhitr2RVEUz84A+bcM4OCygHseRl+ymL2kTborJtNde+vJIbfSr5oY53ge6LQiMMpwTjzN2Mj+7UN94qt7KS8Isry4t7Bgt3cwhNkBwGOQWDHCkE7VPX14oVOTdkNzitzcorJvvEEVpdPb29ld38sMQmmW1VD5SHOCdzLknBwBk8dKWbXk+zW9xp1jeanFcQ+er2qqFCcYJLsoyc/dzn2pezluHPG9jUdFkRkdQysMFSMgj0qCwsbbTNPgsbGLyba3QJFGCSEUdAM9h0A7VUbW45NPtLzTrS61BLtQ8S26KDtxnLFyqr9CQc9qaniKyk0ePUFE2JJDCtuEzKZQSpj2j+IEEHnHBOcc0ezl28h88e5q0VWtLuS4tjNc2c1iVJylw0ZOB3yjMMfjVHS/Ethqtle3kXmQ29nIUkknUKCAgfeOfulWBBOPpS5Ja+Qcy08zWIyCPX0qhpOiafocEsemwsnnSGWaSSV5ZJXP8AE8jksxwAOScAAdBTbfWVmt5rm4srqzs4ozKLm5CKrr1ztDFxxzhlBpllryXd1HBNY3lkZkMkDXKqBMo642sSpwQcNtPtwcP2clcOeOhq0ViW3ii1uJ4P9Fuo7W6kMVteyKoimfnAHzbhnBwWUA9jyMy2muvfXkkNvpV80Mc7wPdFoRGGU4Jx5m7GR/dp+zktxc8TWorLv9bOnT/6Vpt4LUMqteKYjGu4gAkb9+MnH3f05p2qalLpd1aSSohsJnEMr87onYgI3ptJ4PoSD60lCTt5jckr+RpUUUVBRS1XSbTW9Pex1FZHtpP9Ykc7xbx/dJQglT0Kngjgg1ahhitoI4LeNIoo1CJGihVRQMAADoBT6KACiiigAooooAKKKKAKp060bVF1JoVa8SEwpKSSUQnJA7DJAzjrgZ6CrVFFABRRRQBHb/6hfx/nWL4SPladdWUnFxaXs6yg9fmkaRW/FXBrat/9Qv4/zpgsrcagb1YwLhoxE0gJG5QcgEdDg5xnpk+prTmVmmRa9mjnbXUUfx3PMLXUBDLaRW6SPp86qXDuSCxTAGCOTx71Fc2qLq8f/CNpqsN59uEtyZPtC2pQt+9JEn7tsgnGznOCOATXXUVftUndL8fzJdNyTT/r/g+Zw+oWUtpfa0durm9upvP082JmEZYxoo3FPkBDLz5vGMdia6S/1ldGtdPOpRyyPdTR2zPAm5UkfjJ5GFzx36itSqlzpdpd3sF1dRGWS3O6IM7FFb+9szt3Ds2Mj1o9opWUtkL2bV3Hd/qW6zdamtEtFjvhflJG4NilwXBHqYRuA/Q1pUVjF2dzV6qxgaIZ9I8KySTWdyY4DLJb2yRgzmLcSi7R1cj15555zWomoBtHGoG2uUBh877O0R84cZ2lBk7u2PWrdFVKSk22iYx5dDlH0O8n8C6jEyY1TU1e4mUkZ3t0jz04UKnpxUmj7319H04aqLM27fa/7R84DzCRs2CXofv52fLjHtXT0Vp7ZtNf1/XYn2SVv6/rzMHS7SW/vtS1W6jlhe4za2qyqVaOFcjOCMjc2W+m2ubsNHuLq10fTr2G+OoafPFvZ4Gjt7aOEjmNvuMWCgZBZvnP3RlR6FRRGs47eX4f1r3FKipLXz/H+tOxyNzaourx/wDCNpqsN59uEtyZPtC2pQt+9JEn7tsgnGznOCOATVDW7KabUNXka1vv7SeVPsCQWhe3mVVGzzCF8tvmznzTlcArt6nvaKca7i0/66fhpsEqXNf+u/467+SOO1C2nt9ev21GG+msb2OORYrGBnE8irtMTsoJVeAQDtU5OSRkUx5b/QPDWlaFDBdJPJBtnvILSS4S1XuAEU5bnCjpxk+h7SihVtEmtP8ALRf11D2b6M5i61P+xfDVhbaBY3rhx5ELyWM7eQq8F5EC7/oMDcfbmqM2mwf2TpL2Y1N7WxvJHu3+zyw3DmRHDSBdoc5aTkoMgE46V2tFJVrbLW4OlffaxxosdX1DS7y209ZW02a6UJHqk8scrwbR5i7mVnAZuPmGcFsYBWoF0zW7zTfFVnJp8Fr9qkzD5c7HcwhiAVN0agrhcbvXIxxmu5opqu1sv60/yE6Kdrv+tf8AM5OyhW81N47ePVX0yW0kW/TURPhmONoRZOc4352fLjHtUVjpkuoarZvDeavNaWMcgWTUIvIwzJsCqpjRm4OSzA9Bg5JrsaKTrb2/r+rlKnt/Xb/LU89sNHuLq10fTr2G+OoafPFvZ4Gjt7aOEjmNvuMWCgZBZvnP3RlRqXNqi6vH/wAI2mqw3n24S3Jk+0LalC370kSfu2yCcbOc4I4BNddRVPENu/8AX/DeRCoJK39f8Prucr4nSO/Z4LGHUpNVj2/ZsRTfZg4O5WbcPJYDrk5PHHIFXvF37zw69mrYuL2SO3hA67yw5H0ALfQGtyoHs7eS+ivJIw08KMkbkn5A2M4HTJwOetQqluXy1/ryLcL83mT0UUViahRRRQAUUUUAFFFFABRRRQAUUUUAFFFFAF1bWFVwqYH1NL9ni/u/qaal3bSXctrHcRPcQqrSwq4LoGztJHUA4OM9cGpqwuzeyI/s8X939TR9ni/u/qakJABJ4A6moY7y2mslvIriJ7Vk8xZ1cFCmM7t3TGOc0czDlQ77PF/d/U0fZ4v7v6mlhmiuII5reRJYpFDpIjBlZTyCCOop9F2FkR/Z4v7v6mj7PF/d/U1JUc88NtEZbmVIYwQC8jBRknAGT6kgfjRdhZB9ni/u/qaPs8X939TUlFF2FkR/Z4v7v6mj7PF/d/U1JRRdhZEf2eL+7+po+zxf3f1NSVFLdW8E0MM88UctwxWFHcBpCASQoPU4BPHYGi7CyF+zxf3f1NH2eL+7+pqSii7CyI/s8X939TR9ni/u/qakoouwsiP7PF/d/U0fZ4v7v6mpKKLsLIj+zxf3f1NH2eL+7+pqSii7CyI/s8X939TR9ni/u/qae7rGjO7BVUZLE4AHrTLe4hu7aO4tZY5oJVDxyxsGV1IyCCOCCO9F2FkH2eL+7+po+zxf3f1NSUUXYWRH9ni/u/qaPs8X939TUlFF2FkR/Z4v7v6mj7PF/d/U1JRRdhZEf2eL+7+po+zxf3f1NSUUXYWRH9ni/u/qaPs8X939TUlFF2FkR/Z4v7v6mj7PF/d/U1JRRdhZEf2eL+7+po+zxf3f1NSUUXYWRH9ni/u/qaPs8X939TUlFF2FkR/Z4v7v6mipKKLsLI8e8NeJ9HPi7TvEMer2Mt54ivJ7W6tUukaSOM/8eu5AcjAiA6cGU1t3+reJGtfGGpW2ueRHoN2/2a1FrGyyKkEchR2IyVO44xhhk8ngDsNT8N6fqnh86O6Nb24VBE0GFeEoQUZSQQCCoxx2qFvCdi+na7ZNNceXrju9y25dylo1jOz5eOFB5zzn6UaLRdFp96t+pS1d5dXr+P8AwPuMuW71jXde1K2sNT/sy2023iOxIEkM8siF/n3AnYBgYXaTz81N8O5/4UrZZ6/2IM/9+q077wjbXl/9sgv9QsJZIFt7j7HKqi5jXO0PlTgjJwy7W561cstBtbDwvFoMLzG1itfsqu7Avs27ck4xnHtUTV4Siuv/AAf8wg7OLfT/AIBxvh261nRrLwYbjVTd2ep2ywSWf2dFSHbbNIrIwG/P7vB3MQc5AHSq2ieNNW1KXSdSSfUrgajcqs2m/wBiyrb28DkgMs/lDJX5SWLlTzgDiu2Tw1Zxw6HGJJyuiEG2yw+fELRfPxz8rE8Y5/KoLDwjBpl1GbPU9TjsYpDLFpwnAgjY5PGF37ck/IWK+1ayac79P+CRFWhbrY5YeJde0/wfqGv3WpNdPJqEthaW4swywf6Y0KuQg3yMB2HXAGM8m7otzc67qV1o1/dapqOneVFdR3t7pT2TpKkoJi+aJFYHCkYGcbgSetdCvhTTR4dn0WXzpbWaaWclnw6u8plyrLjBV2yCORgVNpOivpkkks+rajqUjqEDXkikIo7BUVV/EgsfWpX9f166/wBWKfl/Wv8Akcrp2ta0viSGHW9UmsLiW9ki/s65sAtrLFltnkzhfmkKhWwXOeRtHbf8W6hPY2dqsGpLpwnn2PLHAZ7hl2k7YYgrbn4HVSAMnBqKDwRZQXdu32/UJbK1uPtNvp0kqmCKTJII+XeQCSQpYgdhwKv654fh1z7JI11dWV1ZyGW3urRlEkZKlT95WUggkEEGp+yh9WcRH4r1y50F4rS/kW5h8RQ6at3eWHlSSwuEbMkLKuGw+OAucAjGauXviHW/D0+uadJf/wBpzQixNlcXMCKY2uZWiw4jChlUru6A84J71tW/gXT7eJ0N5fzGTU49Td5pg7NMiqByV+6dgyPywMAXb3wrpuo3WpT3oll/tK2ht5k37QqxM7IykYIbLk5z2GMVStb+uy/W4uv9d3+hkq+s6f4ih0G812e8TU7KaWK8MEKTW0kZQHACbCpEnG5SQRyTnjj9Gsr4eHvhxHBqsvnTTyNHNLFGxgU2kmVUBQDgA4LbuTzkcV6LpXhiHTtRbULm/vtUvfJ8hJ750LRR5yVUIqgZIBJxk4GScVW0/wAFWWnDS1jvL2WPSbiSezjldCIw8bJ5fCglAGOMnPuRxQv6+9j6P+uhzt54q1jRdL1KyuLx7y6g1iLTob77H5kixyRpIXMUS/OyhmACqASBx1qCfxRrsOj6vFZXt9N5Etl9j1PUdJa3YmWdY5I2Ro0VsDnKgcP6jNdhdeEtOvE1ITPcZ1C5S7Z0k2tDKiIqtGQMgjYDznnPY4pjeEorjTZrTUdW1O/M0sMjTXEqbh5UgdQFVAijI5wuSOp6YS8/L8l+tw0vp/WpLfXdx4Z8G3t9fXMmqT2NtLO0josZl2gsBhAAB26dB3NcvoHiDWLvWLC2e/1S9TUIJBctLocltHYybNytG7xKCucrhyxJ2nPY99c28N3ay21zGssMyGORGHDKRgg/hWLp/hX+zsLHrmryxRxNFbRSzqVtwRjj5QXIHQyF8UdXf+t/6/yDorf1sYfhTxDrOs63eWd7dwKNARra9KbMXs5J2ycZKIFXJAx8zMP4aqaR4p1E+JtDgk1ebVI9VeSO4A014rSMiJpFa3mMa7x8mOWfIOeK6Sy8FaVp7WZtfPT7PaPZyDeD9rjc5Pm8ZY7iWyMHLN6kVBYeA7SxvNLn/tbVbldJcmyhnnUxxKY2j2YCjcNrcFstx97GQWt9f63/AK/4bVPZ2/rsc5JrHiiLwzba8muqzyaqbL7LJZxmLy3ujCpOAHLLkHIYA4wR3qxq2ta9oK+J7D+12vZbPTIr60up7eIPEzs6lSEUKwygI4zyck10z+EbB9Ah0gy3H2eK8W8Vgy7y4n84AnbjG7jpnHfvVHxd4V/tLTtcubASzahqGnLZCHzFVSFZmGCcYOXPOfSktvv+62n4h/wPz/yKt3caxpGtLp+oasdTtdU0+5cCSCONreSNVJ27AMoQx4bJGB8xzXOaT4luYtF8OaLBfX+mww+H7W5kuLDS3vZJGddqrgRuFUbCTkZOQARg13Fr4Qtob+S9u9Qv9QuGt2tYWupFb7NG33lQKo5OBlm3McDJqNfBNpb2mnR6bqOoafcafaJZR3du6eZJCoACuGQo3TOduQScYzQv8v8A27/Nf8EOn9eX+TH+GLvVdZ0rTdT1GSW0byZI7mze1MXmuHwJMON6cKSF9H56V0NZ9rpAtJbRo7++dLaFovLln3iYsQd7kjJYY4OcDJ4rQpsSCiiikMKKKKACiiigAooooAKKKKACiiigAooooAKKKKACiiigAooooAKKKKACiiigAooooAKKKKACiiigAooooAKKKKACiiigAooooAKKKKACiiigAooooAKKKKACiiigAooooAKKKKACiiigAooooAKKKKAM6G6maIFnyfoKf9ol/vfoKrQHFuD9aZY31tqVnHd2MyzQSDKuv6gjqCOhB5B4NbtK9jBc3LcufaJf736Cj7RL/e/QVTtL62v0ka0mWURSNFIB1R1PKkdQfr7Gi2vra7lnit5leS3fy5k6MjYzyD6jkHuOlL3SrTV79C59ol/vfoKPtEv979BUdFOyJuyT7RL/AHv0FH2iX+9+gqOqOqarBpENvJcpIwuLmK2XywDhpGCgnJHGTzRZBd7ml9ol/vfoKPtEv979BUdFFkF2SfaJf736Cj7RL/e/QVHRRZBdkn2iX+9+go+0S/3v0FZlhd6hcX1/FfaZ9jgglCWs/wBoWT7Um0EvtHKYORg+mav0WQXZJ9ol/vfoKPtEv979BUdFFkF2SfaJf736Cj7RL/e/QVHVC/1i307UNMs50kaTUp2ghKAEKyxvIS2TwMIemecUcqC7NP7RL/e/QUfaJf736Co6yNY1z+ydU0Wz+z+b/at21tv37fKxE8m7GDn/AFeMcdc0WQXZt/aJf736Cj7RL/e/QVHRRZBdkn2iX+9+go+0S/3v0FR1i6TrU2s6xqAtY4xpdk5thOclp51Pz7ewRfu56lt3TbyWV7Bd2ub32iX+9+go+0S/3v0FYOm6zPJ4hv8ARdTjjjuYR9otnjyFnt2JAPP8SkbWHT7p43YG1RZNXC7TsSfaJf736Cj7RL/e/QVHRRZBdkn2iX+9+go+0S/3v0FR0UWQXZJ9ol/vfoKPtEv979BUdFFkF2SfaJf736Cj7RL/AHv0FR0UWQXZJ9ol/vfoKPtEv979BUdFFkF2SfaJf736Cj7RL/e/QVHRRZBdkn2iX+9+go+0S/3v0FR0UWQXZJ9ol/vfoKKjoosguyKA4twfrWJo9lcz6vNrJifTILhf+PPGGn9JJQeFbHQDDY+8T91dy3/1C/j/ADqSiSvK5UJuMWl1Oet7K5vvEz6okL6ZBFmEnGJL4A4y6ngIOdpI3nsVH3iexudU8UR3cET6dHY5je7xiW7H/PMKePLBOcsDznaB96uhoqVBGnt5Xul0t8v1+f8AlYrg/EllZSeN3uPF2jXOr6ObGNLFF097+GGbe/m7okViHK+XhyvQEAjkHvKKoxTPPPG0a3l3plgNDtptM+yGSF7vw9calGr5ULGIUKiFgp+8+OOOMGqFx4XS8+F/h2bX/D39oX+myW32iOeyE9wkCyjzECncxG3qoLZA4z39SopW6+d/xv8A8AXl5WMzw8mlR6LEugaf/Z1lubZb/YGs9pzyfKZVIyec4560niKzub/RpILKHzpWZSE/tKaxzg/89oQXH0A56GtSiqeoLQ5rwrpGoaZLcnULT7OJFUKf+Ehu9SzjPadFCfVevfpXRSsqwu0ilkCksoUsSMeg5P0p9FD2sHU838Ktp9re+KrHRtEvtOtb2QS2cQ0S4tYWAtkVsbo1VTvDcHBJ6ZzXMaT4QurZNMu/7Fu0u4rfQJGkaB9yzeeRcsc/xhAA5PIXg4HFe30U4Wi7+n4Dk+ZWf9bf5Hi+habY6jZyjStLun8Sx+IZ5I9Seym2W8a3zM4W4YbAnl7wY0bksflJJrV13SLe5k8QxaloN7eeJridzpGoLYSSeUCo+zmO5VdsARuSCyEEMcHOT6Rpul2ekWrW+nQ+TE80k7LuLZeRy7nJJ6sxOOnPFW6m39fdt9w+Z3v53/Pf79jhH8Kxaz8RLt/Een/b7QaLaxHzoy1tLKJJd3yn5WYZBGcld3GM1U8U+C9GtP8AhF7i80X+27fTJxBeTzWIvbmSAQSIm8KhaQB2Q4AODzjjNejUUf1+L/zsK/5W/CxT0lbJdItl0q1+x2YjHkwfZmt/LX08tgpT6ECuU+I1lHdz+GpL2xvL3T4NTZ7xLS3lnPlm3lX5kiBYqSQpGCCDg8E10OqeHLLV7lZ7ufU43VdgFpqtzbLj/dikUE89cZqbStGtdGjkS0lvpBIQW+2X890Rj0MrsR+GKYLQ4iDRIf8AhEPEsMUF5o+h3t0kmn21vp0jPGu2MN/oqqWEbyK26PaMqWyBuzVvwrbKvhfXbQ6UmkWRDBLzR9Hm06WbdHhmW2YGQOvQH5t3GOmK7yip5dLeVh8z08nc4D4dWg0+/ure10ayithbx7tSg0CXSZJXBI2PHIMyHHzb14BJGBkVreAWEOi3mmy/Ld2Go3UdwpxnLytIrHH95JFb8a6mqq6daLqr6kkKreSQiB5QSC6AkgEdDgk4z0ycdTVdf6/r+vvn+v6/r8DBmH2z4qWptzkabpUwuSOxmkj8tT74hc4+nrXUVVstNtNO+0GzhEZuZmuJmyS0kjdWJPJ4AA9AABgACrVC2S/re43uFFFFAgooooAKKKKACiiigAooooAKKKKACiiigAooooAigOLcH60yxvrbUrOO7sZlmgkGVdf1BHUEdCDyDwafAcW4P1rE0eyuZ9Xm1kxPpkFwv/HnjDT+kkoPCtjoBhsfeJ+6qk3zWNIRi4Nt2t/VjYtL62v0ka0mWURSNFIB1R1PKkdQfr7Gi2vra7lnit5leS3fy5k6MjYzyD6jkHuOlY1vZXN94mfVEhfTIIswk4xJfAHGXU8BBztJG89io+8T2NzqniiO7gifTo7HMb3eMS3Y/wCeYU8eWCc5YHnO0D71QpPTT+u/9f8AD6ulC7V+n3Pt5/L/ADOhrH1/WrjS2sbbTrJL2/1CYxQRSz+TGNql2Z3CsQAqnopJOB6kbFcX4o8HaPq3jDQry68O2N6ZJ5fts8likm5RAwTzGKnIyFAz3xirdzm0N67vtattFhnh0aG71BpEWW0gvQERS2GYSOi7tq842gnGK1q4D4i2Gjw6Lp9tBoElxd2c9s9ibLRpJ/ssaTxlwjRxkR/Ip4yMgdDVjW9Nt/FPjDwxcT6dcXOlfZb3zkubWSNOfK2rLG4HBIJCuOcZxwKL327lKPdnb1l6RrX9q3+sW3keV/Zl6LXdv3eZ+6jk3YwMf6zGOeme9cIulNZ6HZ2epaRdTeH7fXL37Rp8Vm8q+Rvl8j9yoJeINsIUKR904wM1u/DzT00//hIvsujSaNZT6r5tpbNbCAGP7PCNyoOACQxx1ByCAQQHD3rvy/y/zYpK2nn/AJnZUjZ2naATjgE4rL8UQ6lceE9Vh0F2TU3tJVtWVgpEhU7cE8A571jeEIvDFkkjaH4eudMu0tx9pkn0eaGaQDqGlZP3zZ64ZiTzz1pB0uaPh3XL7VbvVbPVbC3srrTbhIXFtdNcI+6JZAQzRoej4xjtW7XD+F9VW58VeJfJs9UtzqFxHLay3WlXMCMFto0JLSRgD5lIwcE44BrB0TSkaLQFtdDvLTxbb3ETatqU2nyRlwp/0gvc4CzK/IUBnzuUgYXKkbu3y/H/AC6jkktV/Wn9WPVqK81FlDbfEf7VZaWurXE1/mSa+8PTpPbDGGaO/ZRGUQD5VxyPlDHisrX9FvrnxRrP9p4t7ma4B07UR4ZutQmgi2rsMNxDJti2sG+UhSDknIbJSbdvP/gffv8AgxNWbR6/VC/1i307UNMs50kaTUp2ghKAEKyxvIS2TwMIemecVw/j/TYJtXgupLZdWuorLYljf+HJ9RtnO4kFHjG2B2PDMSeNuV4GZvGXh3Tb658Na3q/haC5FvOBqMUdgLySOI28iqhVFLSKsjLwAQMZxxVJ9/6/r/hwt+X9f116HYa9rMHh/RZ9RuEeUR4WOGPG+aRiFSNc92YgD61Y083p06A6osK3hQGZbckxq3cKTyQOme/XA6Vyvif7FaeDNLv9OtWtNK029trp7dbU2/lQLINxMTBSoUHcRgEbas+OraW803Ts21xfaUt6j6lbWql2mt9rcbF5kXeULIMllBGG6FdHfvb8tfx/AS1dvK/56fh+J1VBOBXD6k+nWvw/uF8JeG/LtJLmOOWzOjTwgKzqHka2Co8qhTkqB8wBGcZrO8C+H4p5vEFnqWi2v9jXQt5Ibc6I9jaysAwZhbSs2Gyq5JwTtU4xgkd7Ow+ibO70TVoNe0Oz1WzSRILyJZY1lADAH1AJGfxq9XBfDHS9I0fSbexi8PnTdbtrbyb6c6S8HmlWwcT7AsgJAIwxyOa6bSfEdrq+savpkENzDc6TMkU4mjCh9yBlZCCcqQfY+1PToEtGzXrCl8TtaaxDZajoupWcFxcfZoL6QwNDI5zt4SVnUNjgso7A4Jrdrg9aSHU/FFpNoVrrMmr29/EZHuoLpbOKJTtldRMBDnZuAMXzktkHBY0vtJB0Zuan4ti0m8dLvSdSFjFKkU2peWggjZ8AfecOy5ZQWVGUZPPDY6CvPfFGsnVfEh0PULHWLbQ7J45bmaDR7q4/tBwQ6xo0cbKIwQNxzliNowMk9fqetDTZdOQadqF4L+4WAPa25cW+RnfLkjYg7mhaoHoxmsa5LpTolvoupao5QyOLJIwI1Hq0jopP+yCW9quaZqVrrGlWuo6fJ5trdRLNE+CNysMjg8j6Gua8ca/fWLW2kabbahG18refqdtps10tnGODgRo2ZT0UHgdT0Ctaj1bSvCvw5XULKz1BtL0u0wsBtXjuPLj+UkpKEbOBnJxkc0Jrlbf9f1/mFm2kjpaa7rGjO7BVUZZicAD1plrcR3lnDcw58uaNZE3Ag4IyMg9OtYfjPTdW1jRUsNIjs5Y5plF7FdXDQCWDktGHWN8bjgH5fulsYJBDldaCjZ6kOn+P9H1DQtT1cLdW9nps/kO00XzSkqjIY1BJYOJE2jgncOKu6R4lTU9Ql0+602+0q/jiE4tr4R7pIicb1aN3UgHgjORxkDIzwMmkeLrvS/Faro1paTrq9vf2yRXDyiVoVtm2IrRxh0xGRncuWBXjG6trw1pUd546XX7WLVSkOnyW1xe6rbvBNdSyPGwUI6qVRBHnCqEzIdvO6mkm16fpf89P+HHLRP1/X/L+tDvScA8Z9hXMt4zlg1XT7HUPDGsWTajcfZ4JJXtHXdtLEkRzs2Aqkk44xWtpesf2nd6hB/Z1/Z/YZ/J8y7g8tLjjO+I5+ZffisnTbafVfHV/rF5bzRW+nR/YNPWaMpuJIaeZQeoYhEB7iMkcHmVq0HRl2LWpofF0miajGifaITc6fMmcSou0SI2f41LA8cFWHoa2q5jWGF38QvD1pbsfNs0uL2fbj5YynlKD6bmfI9fLb0rp6a2E9wooooAKKKKAI7f/AFC/j/OpKjt/9Qv4/wA6oWGpS6jqd2sCILG1byfMOd0so+9jttXp7nPTHNWbuTeyRp0VkxeIEbUYbW4sL20W5dkt57hFVJmUE4ADFlJAJG5RwKkXWRPqDW1lZXV0kcnlTXMYQRRN3BLMC2O+0Njp1BFP2cg54mlRRRUFBRWXqGtfYtShsYdPu764liaYLbmIbVUgEku692HSpbjULmCCGSLSL24aRctHE8IaI+jbpAM/7pI4q+R2T7k8yu12L9UdV0i21iBIruS8jVG3A2l9NbMTjHLROpI9icU3RtXTWrN7iK2ntwkzwlZtmSynBwVZgRnIyD2NWbueS2tzJDaTXbgjEUJQMf8AvtlH61Li0+VjUk1dGfpnhqx0m7+0Ws+qSPtK4utWurlMH/YlkZc8dcZrXrGtfEa3FxfQTaZf20tjEssqOqSEhs4CiJ2y3ynjr09afb+IYGkuIr+2uNNlt4PtDJdFOYucuCjMMAjnnPtzVunJEqcWa1FZVjrqXd1HBNY3lkZ0Mlu1yigTKOuNrEqcEHDbT7cHC6fr9pqepS2dqsxMcSzCVo9qSKWKgrnkjKnnGCMEEik6cl0BTi+pqUVlS62bbUI7e8028t4ppvIjunMRjZjnb91ywzjAyo7ZxSf26z6pcWVrpV7c/ZpFjlnjaEIpKhv4pAxwGHQUezkw50jWorM1LV5tNMjf2ReXMEab3nikgVAAMn78inj6VGNcmksbW7tdF1C4iuIVm+UwIYwRnaweRcHHpke9Hs5NX/VD5knY1nRZEZHUMrDBUjII9KgsLG20zT4LGxi8m2t0CRRgkhFHQDPYdAO1ZMfiuKfT9NubbTb6ZtSL+RAvlB8KCSSWcLjAyCCcjFXptWS106O6vLa4gkkbYlqQrys5zhQEYgk4z1wBySADhunJOzQlUjLY0KKof2nKumtdTaXfRSBgq22I3kckgDGxyoGT1JAHJOBzUdprtvPFeNcxTWUllj7RDcBSyAjIPyFgQR0wT6daXJLcfMjSIyCPX0qhpOiafocEsemwsnnSGWaSSV5ZJXP8TyOSzHAA5JwAB0FJpetQarDdSwQ3EQtZjC6zR7WJChsheT0YcEA9sVFZ6+lzfLaXNjd2EkkRmh+1Kg81BjJG1jgjIyGweenBwezkr6Bzxa3/AK2Naisa08SQXk9uFs7uO2uyVtryRV8qc4JGMMWGQCQWUA49xl9prr315JDb6VfNDHO8D3RaERhlOCceZuxkf3afs5LcXPG1zWorNuNSls9dt7W5RPst4uyCVc5WUAko31UZB9iPStKoaa1KTvoFZ+r6JYa9apbarE89usgkMPnOiSY7OqkCRfVWyp7itCikMQAKoCgAAYAHaloooAKKKKACiiigCtbada2l3dXVvCFnvHDzyZJZyFCjk9gBwBwOfU1ZoooAKKKKACiiigCO3/1C/j/OsXwkfK066spOLi0vZ1lB6/NI0it+KuDW1b/6hfx/nTBZW41A3qxgXDRiJpASNyg5AI6HBzjPTJ9TWnNo0yLXs0cxbal/bHiSG51G11G2htJWSyt306f5nIKmZ32bRwSAM4AJJOeBRhsbuwU2tsNVGrrfu8bKZhamNpi5LH/VEbGOc5bPA5xXeUVp7ZLZaf1/TM3Sve7/AK/rYz77WYNP1TT7GeKYvqDukUiJlFZV3YY5yMgHHHatCqjaXaPqiajJEZLqNSkbPIzCMHrtUnapPQkAE1brF8tlY1V7u5g+IINMa5imvYtUN0sTJFJpy3IYKSCQWi4HIH3j2qJ5dbtfBMEUqSS6zOiwBlXd5bscB3K8fKOSemRx1FdHRVqp7qi9bf1/w5PJ7zktP6/HyM9IofD/AIfEdrbzTRWUHyxQrvkk2joB3Y/qTUqagG0cagba5QGHzvs7RHzhxnaUGTu7Y9at0VDlfV7lJW22MLR4pdI8Pz6hfQTSXtwWvLmKJN8hYjiMAdSqhUA9qztFaPWbi8utbtrsXV7bmI20lhPHHbwf88w7IAzHOSQeT0GBXXUVp7Td21f4EcjVlfb8TkdMsJbvXLCeK71eez05XIfUYvJ+YpsCBTGjNwclmB6DB5NS2uoo/jueYWuoCGW0it0kfT51UuHckFimAMEcnj3rqaKbqpvVdLf1oJU7KyOV1VUvdat30uHUn1CG7jLNNFMtsiA4kYCQeX93IBT5iTwepqPXraM3l1/YKarFrcroyyRC4S3LgD5nJ/csoUc9ScYHNddRRGty2t0/r7vIcqfNfz/r7/Mw/EEM2pNZ6QsMjW91JvvJAp2CFOShOMZY4XHXBb0p/iRbi5sI9Ls0lBv5BDJLGpxDF1di2MKdoIHuRWzRUKdreRTje+u5ia1aaSlvZre298FtyRb/ANnpcbo/lx1g5AxxzxWJLp+ovpOlT6n9veG0vZXZUZmult2V0TJTLFgGXJHzYJ5yDXbUVUazirEypJnK2eoXWk6Tql7HZ6pe2aSj7BbzJK9w/wAoDcODIF3Z+9yBk9MVN4cmjigvr28+2S382Jrtzp08SjAwscasgLBQMADJPJ74rpKKHUTT03/r/g+oKDTWuxy3hm+VbrW99rfx+deSXMfm2Eyb49iDILKBnIPy9fao9EvTq+vDUNUtr+3naN4bS0l0+ZEgjPLF3Kbd7bR3wOAM8k9bRTdSOunS39aC9nLv1b/G5xkGlefqGn2Wmz6ubDT7kSlLqLyYoFTO1ELRq0mTgDlgF5znbmW5tUXV4/8AhG01WG8+3CW5Mn2hbUoW/ekiT922QTjZznBHAJrrqKft3e/9P17h7JWf9fd2MPxF+/u9Hsom/fvfJMMdVSMFmP06L/wIetblQLZ26X0l6Ix9okjWNpCSTtBJAHoMk9OtT1k5aJI0S95thRRRUFBRRRQAUUUUAFFFFABRRRQAUUUUAFFFFAF1bWFVwqYH1NL9ni/u/qaKKwuzeyD7PF/d/U0fZ4v7v6miii7CyD7PF/d/U0fZ4v7v6miii7CyD7PF/d/U0fZ4v7v6miii7CyD7PF/d/U0fZ4v7v6miii7CyD7PF/d/U0fZ4v7v6miii7CyD7PF/d/U0fZ4v7v6miii7CyD7PF/d/U0fZ4v7v6miii7CyD7PF/d/U0fZ4v7v6miii7CyD7PF/d/U0fZ4v7v6miii7CyD7PF/d/U0fZ4v7v6miii7CyD7PF/d/U0fZ4v7v6miii7CyD7PF/d/U0fZ4v7v6miii7CyD7PF/d/U0fZ4v7v6miii7CyD7PF/d/U0fZ4v7v6miii7CyD7PF/d/U0fZ4v7v6miii7CyD7PF/d/U0fZ4v7v6miii7CyD7PF/d/U0fZ4v7v6miii7CyD7PF/d/U0fZ4v7v6miii7CyD7PF/d/U0fZ4v7v6miii7CyD7PF/d/U0UUUXYWR//9k=)"
      ],
      "metadata": {
        "id": "XDpn_CCNWY-7"
      }
    },
    {
      "cell_type": "code",
      "source": [
        "# write find_closest function\n",
        "\n",
        "def find_closest(data, ra1, dec1): #input is in degrees\n",
        "  import numpy as np\n",
        "\n",
        "  # convert the RA and Dec inputs from degrees to radians\n",
        "  r1 = np.radians(ra1)\n",
        "  d1 = np.radians(dec1)\n",
        "\n",
        "  # convert catalogue's degrees to radian\n",
        "  rad_cat = []\n",
        "  for i in data:\n",
        "    r2 = np.radians(i[1])\n",
        "    d2 = np.radians(i[2])\n",
        "    rad_cat.append([i[0],r2,d2])\n",
        "  #return rad_cat\n",
        "\n",
        "  # calculating the difference between input and catalogue\n",
        "  calc = []\n",
        "  for j in rad_cat:\n",
        "    b = np.cos(d1)*np.cos(j[2])*np.sin(np.abs(r1 - j[1])/2)**2\n",
        "    a = np.sin(np.abs(d1 - j[2])/2)**2\n",
        "    d = 2*np.arcsin(np.sqrt(a + b))\n",
        "    ang_dis_deg = np.degrees(d)\n",
        "    calc.append([j[0], ang_dis_deg])\n",
        "  #return calc\n",
        "\n",
        "  # selecting min value along the second column of the calculation result above\n",
        "  # output in row number and then map it against the calc table\n",
        "  min_value = np.argmin(calc, axis=0)[1]\n",
        "  return calc[min_value]"
      ],
      "metadata": {
        "id": "nipuxORgeMrc"
      },
      "execution_count": 276,
      "outputs": []
    },
    {
      "cell_type": "code",
      "source": [
        "# check result\n",
        "\n",
        "cat = import_bss()\n",
        "find_closest(cat, 175.3, -32.5)"
      ],
      "metadata": {
        "colab": {
          "base_uri": "https://localhost:8080/"
        },
        "id": "_E8DUGTcgJOL",
        "outputId": "9a5b7fad-7ff8-48a0-ed1e-555bc12dba7a"
      },
      "execution_count": 277,
      "outputs": [
        {
          "output_type": "execute_result",
          "data": {
            "text/plain": [
              "[156, 3.7670580226469053]"
            ]
          },
          "metadata": {},
          "execution_count": 277
        }
      ]
    },
    {
      "cell_type": "code",
      "source": [
        "# check result\n",
        "\n",
        "cat = import_bss()\n",
        "find_closest(cat, 32.2, 40.7)"
      ],
      "metadata": {
        "colab": {
          "base_uri": "https://localhost:8080/"
        },
        "id": "xby5MiOQgwrE",
        "outputId": "9e8b3ba5-7aea-44ec-910a-c9713a0e6f50"
      },
      "execution_count": 278,
      "outputs": [
        {
          "output_type": "execute_result",
          "data": {
            "text/plain": [
              "[26, 57.729135775621295]"
            ]
          },
          "metadata": {},
          "execution_count": 278
        }
      ]
    },
    {
      "cell_type": "markdown",
      "source": [
        "### Learnings:\n",
        "\n",
        "*   Find min value - ```np.argmin(x)```\n",
        "\n",
        "> Note, ```axis```  : [int, optional] Along a specified axis like 0 for column or 1 for row\n",
        "><br>```axis=1``` we instruct NumPy to search for the minimum value in each “row” of the array</br>\n",
        "><br>```axis = 0``` By modifying the axis= parameter to pass in 0, we can find the indices of the minimum values searching column-wise</br>\n",
        "><br>To select specific column, simply add position after the clause - ```np.argmin(array, axis=0)[1]```</br>\n",
        "\n",
        "\n",
        "\n",
        "\n",
        "\n",
        "\n"
      ],
      "metadata": {
        "id": "NPHig5lf0gDv"
      }
    },
    {
      "cell_type": "markdown",
      "source": [
        "## Task v - Full Crossmatching"
      ],
      "metadata": {
        "id": "1T5MDNHxeugu"
      }
    },
    {
      "cell_type": "markdown",
      "source": [
        "Write a ```crossmatch``` function that crossmatches two catalogues within a maximum distance. It should return a list of <b>matches</b> and <b>no-matches</b> for the first catalogue against the second.\n",
        "\n",
        "* The list of matches contains tuples of the first and second catalogue object IDs and their distance.\n",
        "\n",
        "* The list of no-matches contains the unmatched object IDs from the first catalogue only.\n",
        "\n",
        "Both lists should be ordered by the first catalogue's IDs.\n",
        "\n",
        "The BSS and SuperCOSMOS catalogues will be given as input arguments, each in the format you’ve seen previously. The maximum distance is given in decimal degrees."
      ],
      "metadata": {
        "id": "_bV-skm8slq4"
      }
    },
    {
      "cell_type": "markdown",
      "source": [
        "The process you should follow is:\n",
        "\n",
        "1.   Select an object from the BSS catalogue;\n",
        "2.   Go through all the objects in SuperCOSMOS and find the ones within the max distance to the BSS object;\n",
        "3.   If the objects are close enough, record the match;\n",
        "4.   Repeat 1-3 for all the other objects in the BSS catalogue.\n",
        "\n"
      ],
      "metadata": {
        "id": "Ye3K-TEye5Id"
      }
    },
    {
      "cell_type": "code",
      "source": [
        "# Import bss function\n",
        "\n",
        "# import libraries\n",
        "import numpy as np\n",
        "\n",
        "def import_bss_cm():\n",
        "\n",
        "  # load and grab data ranging from the column position 1 up until column pos 6\n",
        "  data = np.genfromtxt('https://cdsarc.u-strasbg.fr/ftp/J/MNRAS/384/775/table2.dat', usecols=range(1,7))\n",
        "\n",
        "  # placeholder\n",
        "  RADecs = []\n",
        "\n",
        "  # generate value starting from 1, ending at the 321 (row + 1), with increment of 1\n",
        "  # insert generated values at index 0 along the column (axis 1) onto the data array above\n",
        "  col_data = np.insert(data, 0, np.arange(start=1, stop=data.shape[0]+1, step=1), axis=1)\n",
        "\n",
        "  # iterate through each row\n",
        "  for f in col_data:\n",
        "    # identify column ID and convert strong to int\n",
        "    col_ID = f[0].astype(int)\n",
        "\n",
        "    # right ascension calculation to decimal degrees\n",
        "    ra_hour = f[1]\n",
        "    ra_min = f[2] / 60\n",
        "    ra_sec =  f[3] / (60*60)\n",
        "    ra_sec = f[3]/ (60*60)\n",
        "    Ra_deg = (15*(ra_hour + ra_min + ra_sec))\n",
        "\n",
        "    # declination calculation to decimal degrees\n",
        "    dec_deg = None\n",
        "    if f[4] <0:\n",
        "      dec_deg = (-1*(f[4]*-1 + f[5]/60 + f[6]/(60*60)))\n",
        "    else:\n",
        "      dec_deg = (f[4] + f[5]/60 + f[6]/(60*60))\n",
        "\n",
        "    # collate the values\n",
        "    # turn degrees to radians in prep for angular distance calculation\n",
        "    # append to RADecs placeholder\n",
        "    RADecs.append([col_ID, np.radians(Ra_deg), np.radians(dec_deg)])\n",
        "\n",
        "    # convert data type from list to tuple via list comprehension\n",
        "    holder_tuple_bss = [tuple(row) for row in RADecs]\n",
        "  return holder_tuple_bss"
      ],
      "metadata": {
        "id": "2DiuyCulFKVT"
      },
      "execution_count": 279,
      "outputs": []
    },
    {
      "cell_type": "code",
      "source": [
        "# bring in super_full data\n",
        "\n",
        "from google.colab import files\n",
        "data_to_load = files.upload()"
      ],
      "metadata": {
        "colab": {
          "base_uri": "https://localhost:8080/",
          "height": 73
        },
        "id": "tl1aDzKPFJKM",
        "outputId": "98332183-70fd-42f1-d8a6-99164988f25a"
      },
      "execution_count": 25,
      "outputs": [
        {
          "output_type": "display_data",
          "data": {
            "text/plain": [
              "<IPython.core.display.HTML object>"
            ],
            "text/html": [
              "\n",
              "     <input type=\"file\" id=\"files-b0f6fb6f-2a0a-4177-bdf2-ea0187e210ee\" name=\"files[]\" multiple disabled\n",
              "        style=\"border:none\" />\n",
              "     <output id=\"result-b0f6fb6f-2a0a-4177-bdf2-ea0187e210ee\">\n",
              "      Upload widget is only available when the cell has been executed in the\n",
              "      current browser session. Please rerun this cell to enable.\n",
              "      </output>\n",
              "      <script>// Copyright 2017 Google LLC\n",
              "//\n",
              "// Licensed under the Apache License, Version 2.0 (the \"License\");\n",
              "// you may not use this file except in compliance with the License.\n",
              "// You may obtain a copy of the License at\n",
              "//\n",
              "//      http://www.apache.org/licenses/LICENSE-2.0\n",
              "//\n",
              "// Unless required by applicable law or agreed to in writing, software\n",
              "// distributed under the License is distributed on an \"AS IS\" BASIS,\n",
              "// WITHOUT WARRANTIES OR CONDITIONS OF ANY KIND, either express or implied.\n",
              "// See the License for the specific language governing permissions and\n",
              "// limitations under the License.\n",
              "\n",
              "/**\n",
              " * @fileoverview Helpers for google.colab Python module.\n",
              " */\n",
              "(function(scope) {\n",
              "function span(text, styleAttributes = {}) {\n",
              "  const element = document.createElement('span');\n",
              "  element.textContent = text;\n",
              "  for (const key of Object.keys(styleAttributes)) {\n",
              "    element.style[key] = styleAttributes[key];\n",
              "  }\n",
              "  return element;\n",
              "}\n",
              "\n",
              "// Max number of bytes which will be uploaded at a time.\n",
              "const MAX_PAYLOAD_SIZE = 100 * 1024;\n",
              "\n",
              "function _uploadFiles(inputId, outputId) {\n",
              "  const steps = uploadFilesStep(inputId, outputId);\n",
              "  const outputElement = document.getElementById(outputId);\n",
              "  // Cache steps on the outputElement to make it available for the next call\n",
              "  // to uploadFilesContinue from Python.\n",
              "  outputElement.steps = steps;\n",
              "\n",
              "  return _uploadFilesContinue(outputId);\n",
              "}\n",
              "\n",
              "// This is roughly an async generator (not supported in the browser yet),\n",
              "// where there are multiple asynchronous steps and the Python side is going\n",
              "// to poll for completion of each step.\n",
              "// This uses a Promise to block the python side on completion of each step,\n",
              "// then passes the result of the previous step as the input to the next step.\n",
              "function _uploadFilesContinue(outputId) {\n",
              "  const outputElement = document.getElementById(outputId);\n",
              "  const steps = outputElement.steps;\n",
              "\n",
              "  const next = steps.next(outputElement.lastPromiseValue);\n",
              "  return Promise.resolve(next.value.promise).then((value) => {\n",
              "    // Cache the last promise value to make it available to the next\n",
              "    // step of the generator.\n",
              "    outputElement.lastPromiseValue = value;\n",
              "    return next.value.response;\n",
              "  });\n",
              "}\n",
              "\n",
              "/**\n",
              " * Generator function which is called between each async step of the upload\n",
              " * process.\n",
              " * @param {string} inputId Element ID of the input file picker element.\n",
              " * @param {string} outputId Element ID of the output display.\n",
              " * @return {!Iterable<!Object>} Iterable of next steps.\n",
              " */\n",
              "function* uploadFilesStep(inputId, outputId) {\n",
              "  const inputElement = document.getElementById(inputId);\n",
              "  inputElement.disabled = false;\n",
              "\n",
              "  const outputElement = document.getElementById(outputId);\n",
              "  outputElement.innerHTML = '';\n",
              "\n",
              "  const pickedPromise = new Promise((resolve) => {\n",
              "    inputElement.addEventListener('change', (e) => {\n",
              "      resolve(e.target.files);\n",
              "    });\n",
              "  });\n",
              "\n",
              "  const cancel = document.createElement('button');\n",
              "  inputElement.parentElement.appendChild(cancel);\n",
              "  cancel.textContent = 'Cancel upload';\n",
              "  const cancelPromise = new Promise((resolve) => {\n",
              "    cancel.onclick = () => {\n",
              "      resolve(null);\n",
              "    };\n",
              "  });\n",
              "\n",
              "  // Wait for the user to pick the files.\n",
              "  const files = yield {\n",
              "    promise: Promise.race([pickedPromise, cancelPromise]),\n",
              "    response: {\n",
              "      action: 'starting',\n",
              "    }\n",
              "  };\n",
              "\n",
              "  cancel.remove();\n",
              "\n",
              "  // Disable the input element since further picks are not allowed.\n",
              "  inputElement.disabled = true;\n",
              "\n",
              "  if (!files) {\n",
              "    return {\n",
              "      response: {\n",
              "        action: 'complete',\n",
              "      }\n",
              "    };\n",
              "  }\n",
              "\n",
              "  for (const file of files) {\n",
              "    const li = document.createElement('li');\n",
              "    li.append(span(file.name, {fontWeight: 'bold'}));\n",
              "    li.append(span(\n",
              "        `(${file.type || 'n/a'}) - ${file.size} bytes, ` +\n",
              "        `last modified: ${\n",
              "            file.lastModifiedDate ? file.lastModifiedDate.toLocaleDateString() :\n",
              "                                    'n/a'} - `));\n",
              "    const percent = span('0% done');\n",
              "    li.appendChild(percent);\n",
              "\n",
              "    outputElement.appendChild(li);\n",
              "\n",
              "    const fileDataPromise = new Promise((resolve) => {\n",
              "      const reader = new FileReader();\n",
              "      reader.onload = (e) => {\n",
              "        resolve(e.target.result);\n",
              "      };\n",
              "      reader.readAsArrayBuffer(file);\n",
              "    });\n",
              "    // Wait for the data to be ready.\n",
              "    let fileData = yield {\n",
              "      promise: fileDataPromise,\n",
              "      response: {\n",
              "        action: 'continue',\n",
              "      }\n",
              "    };\n",
              "\n",
              "    // Use a chunked sending to avoid message size limits. See b/62115660.\n",
              "    let position = 0;\n",
              "    do {\n",
              "      const length = Math.min(fileData.byteLength - position, MAX_PAYLOAD_SIZE);\n",
              "      const chunk = new Uint8Array(fileData, position, length);\n",
              "      position += length;\n",
              "\n",
              "      const base64 = btoa(String.fromCharCode.apply(null, chunk));\n",
              "      yield {\n",
              "        response: {\n",
              "          action: 'append',\n",
              "          file: file.name,\n",
              "          data: base64,\n",
              "        },\n",
              "      };\n",
              "\n",
              "      let percentDone = fileData.byteLength === 0 ?\n",
              "          100 :\n",
              "          Math.round((position / fileData.byteLength) * 100);\n",
              "      percent.textContent = `${percentDone}% done`;\n",
              "\n",
              "    } while (position < fileData.byteLength);\n",
              "  }\n",
              "\n",
              "  // All done.\n",
              "  yield {\n",
              "    response: {\n",
              "      action: 'complete',\n",
              "    }\n",
              "  };\n",
              "}\n",
              "\n",
              "scope.google = scope.google || {};\n",
              "scope.google.colab = scope.google.colab || {};\n",
              "scope.google.colab._files = {\n",
              "  _uploadFiles,\n",
              "  _uploadFilesContinue,\n",
              "};\n",
              "})(self);\n",
              "</script> "
            ]
          },
          "metadata": {}
        },
        {
          "output_type": "stream",
          "name": "stdout",
          "text": [
            "Saving super_full.csv to super_full.csv\n"
          ]
        }
      ]
    },
    {
      "cell_type": "code",
      "source": [
        "# Import super function\n",
        "\n",
        "def import_super_cm():\n",
        "\n",
        "  # load data, separate each value out by ',', skip the first row, and grab only RA and Dec column\n",
        "  super_cat = np.loadtxt('super_full.csv', delimiter=',',skiprows=1, usecols=[0,1], dtype=str)\n",
        "\n",
        "  # generate value starting from 1, ending at the 3 (no. of row + 1), with increment of 1\n",
        "  # insert generated values at index 0 along the column (axis 1) onto the data array above\n",
        "  # define as super_data\n",
        "  super_data_id = np.insert(super_cat, 0, np.arange(start=1, stop=super_cat.shape[0]+1, step=1), axis=1)\n",
        "\n",
        "  holder = []\n",
        "  for d in super_data_id:\n",
        "    # convert column ID, RA, and DEC from string to int and append to holder\n",
        "    col_ID = d[0].astype(int)\n",
        "    ra = d[1].astype(float)\n",
        "    dec = d[2].astype(float)\n",
        "\n",
        "    # turning degrees into radians\n",
        "    holder.append([col_ID, np.radians(ra), np.radians(dec)])\n",
        "\n",
        "    # convert data type from list to tuple via list comprehension\n",
        "    holder_tuple_super = [tuple(row) for row in holder]\n",
        "  return holder_tuple_super"
      ],
      "metadata": {
        "id": "EsQEl87XvxUv"
      },
      "execution_count": 280,
      "outputs": []
    },
    {
      "cell_type": "code",
      "source": [
        "# crossmatch\n",
        "# remember import_bss and import_super outputs are already in radians\n",
        "\n",
        "import numpy as np\n",
        "\n",
        "def crossmatch(catalogue_1, catalogue_2, max_dist):\n",
        "\n",
        "  matches_prep = []\n",
        "  no_matches_prep = []\n",
        "  for d in catalogue_1:\n",
        "    no_matches_prep.append(d[0]) #all the object IDs\n",
        "    for e in catalogue_2:\n",
        "      col_ID_first = d[0]\n",
        "      col_ID_target = e[0]\n",
        "\n",
        "      # pass through calculation to find out angular distance\n",
        "      b = np.cos(d[2])*np.cos(e[2])*np.sin(np.abs(d[1] - e[1])/2)**2\n",
        "      a = np.sin(np.abs(d[2] - e[2])/2)**2\n",
        "      c = 2*np.arcsin(np.sqrt(a + b))\n",
        "\n",
        "      # turning back to degrees as max distance is given in degrees\n",
        "      ang_dis_deg = np.degrees(c)\n",
        "\n",
        "      # if object's distance is less than max distance, then append col_id of catalogue 1, col_id of catalgue 2, and distance to the matches_pre holder\n",
        "      if ang_dis_deg < max_dist:\n",
        "        matches_prep.append([col_ID_first, col_ID_target, ang_dis_deg])\n",
        "\n",
        "    # compare object ids with the matched one\n",
        "    # save to variable no_matched_loop if not found in the matched list\n",
        "    # [row[0] for row in matches_pre] represents first column\n",
        "    no_matches = [i for i in no_matches_prep if i not in [row[0] for row in matches_prep]]\n",
        "\n",
        "    # change data type to tuple\n",
        "    matches = [tuple(row) for row in matches_prep]\n",
        "\n",
        "  return matches, no_matches"
      ],
      "metadata": {
        "id": "M0syru9zvtfv"
      },
      "execution_count": 281,
      "outputs": []
    },
    {
      "cell_type": "code",
      "source": [
        "# run function bss and super from above\n",
        "\n",
        "bss_cat_cm = import_bss_cm()\n",
        "super_cat_cm = import_super_cm()"
      ],
      "metadata": {
        "id": "I_Oo4w5gexll"
      },
      "execution_count": 282,
      "outputs": []
    },
    {
      "cell_type": "code",
      "source": [
        "# quick check on the shape of bss and super\n",
        "a = np.array(bss_cat_cm)\n",
        "b = np.array(super_cat_cm)\n",
        "\n",
        "a.shape, b.shape"
      ],
      "metadata": {
        "colab": {
          "base_uri": "https://localhost:8080/"
        },
        "id": "lAXLWMetm5Ac",
        "outputId": "a798d733-79f7-4385-dab5-03d4727a4b07"
      },
      "execution_count": 283,
      "outputs": [
        {
          "output_type": "execute_result",
          "data": {
            "text/plain": [
              "((320, 3), (500, 3))"
            ]
          },
          "metadata": {},
          "execution_count": 283
        }
      ]
    },
    {
      "cell_type": "code",
      "source": [
        "# max distance of 40 arcseconds, given in degrees\n",
        "\n",
        "max_dist = 40/3600\n",
        "matches, no_matches = crossmatch(bss_cat_cm, super_cat_cm, max_dist)\n",
        "\n",
        "print(matches)\n",
        "print(len(matches))\n",
        "print(no_matches[:5])\n",
        "print(len(no_matches))"
      ],
      "metadata": {
        "colab": {
          "base_uri": "https://localhost:8080/"
        },
        "id": "dMp8oocDjWCW",
        "outputId": "9f96c9a3-17e0-4bb6-e279-fdeb615f2b6a"
      },
      "execution_count": 284,
      "outputs": [
        {
          "output_type": "stream",
          "name": "stdout",
          "text": [
            "[(1, 2, 0.00010988610938710059), (2, 4, 0.0007649845967242495), (3, 5, 0.00020863352870707666), (4, 6, 0.00012867299967083928), (7, 11, 7.666235090011008e-05), (8, 14, 0.00020833046101750643), (9, 15, 0.0001774015026088326), (10, 17, 0.00016079604439502975), (12, 18, 0.0003493944606752222), (13, 22, 0.00012170541597764247), (14, 24, 0.008314435904852577), (15, 25, 0.00021977416884437018), (16, 26, 0.0001328286890139291), (17, 27, 3.181530427842653e-05), (18, 29, 0.00019843774684364136), (19, 30, 0.00011585178516956528), (20, 31, 0.0002627136922326124), (21, 32, 0.00039932330328371096), (22, 33, 7.36535577225557e-05), (23, 34, 0.00022280948960772594), (24, 35, 0.00015481960583649628), (25, 37, 0.0003688060288937162), (26, 39, 0.0003750312712778308), (27, 41, 0.0001183449200434592), (28, 42, 0.00012217104062974945), (30, 43, 0.0005573032265457314), (31, 44, 0.00018231015875520086), (32, 46, 0.00023219797492993673), (33, 47, 3.915629971730293e-05), (34, 48, 0.00014607219789169266), (35, 49, 4.1070501693342785e-05), (36, 51, 4.296566928075053e-05), (37, 52, 7.225424528927766e-05), (38, 54, 8.833920915514796e-05), (39, 55, 0.0001813160234814436), (40, 57, 0.00023419031692705898), (41, 58, 0.00014918678107556053), (42, 59, 8.647673054235956e-05), (43, 60, 0.0003397520399069505), (44, 61, 0.00020782283942660332), (46, 63, 0.0002144920866882574), (48, 66, 0.00023316432931055843), (49, 67, 0.00030989999502676393), (50, 68, 0.00018005499418805973), (51, 69, 0.00028934185496114), (52, 70, 0.0049745556457251525), (53, 71, 0.00043685274930407896), (54, 72, 0.00016203598629691387), (55, 73, 0.0001365817069038471), (56, 75, 0.0001629774184535162), (57, 76, 0.005177286279949468), (59, 77, 4.8644868161868625e-05), (60, 78, 0.0004406423620241658), (61, 80, 2.9904361585395218e-05), (62, 81, 3.656619200392527e-05), (63, 82, 0.00012412812833428557), (64, 84, 0.00026837733624882125), (65, 87, 6.509744272703292e-05), (66, 89, 0.0005752282251043577), (67, 90, 2.2534536966261204e-05), (68, 91, 0.004693827458540666), (69, 92, 0.00013261842499102852), (70, 93, 3.131474953574424e-05), (71, 94, 0.00015225487423914686), (72, 96, 0.00013918175767132213), (73, 98, 0.0007847298423634642), (74, 102, 0.00018548926727861216), (75, 103, 7.719986990157814e-05), (76, 104, 0.0003777386578112844), (77, 105, 0.00021913516272958764), (78, 109, 0.00014671076149289455), (79, 110, 6.0225565698537005e-05), (80, 111, 0.0003321454073186171), (81, 112, 0.006435517815824391), (83, 113, 0.0004227204349905356), (84, 115, 0.0039515602204170976), (85, 116, 0.00013873324931176157), (86, 117, 0.0001045570031488151), (87, 118, 0.0003990472980527285), (88, 119, 0.007156113404570787), (89, 120, 7.51127572275804e-05), (90, 121, 0.00011889279959084862), (91, 122, 0.0018600669793894578), (92, 123, 0.00018786253245522847), (93, 126, 0.0003765364316455148), (94, 127, 0.005008459061991599), (94, 128, 0.006863393941620694), (95, 129, 0.0040283601665031124), (96, 132, 0.00010055256871168869), (97, 138, 0.0026877610299875913), (98, 140, 0.00023206534341148644), (99, 142, 0.0004766995376615285), (100, 143, 0.00010596728846245189), (101, 148, 0.003846643818059534), (102, 149, 0.003571502527414212), (102, 150, 0.0068642828313091025), (103, 154, 0.00028669524199686727), (104, 161, 0.004924289145241217), (105, 166, 0.001424280331738518), (106, 167, 0.0041090311972815765), (107, 173, 0.0038465738826470018), (107, 174, 0.006669368237517384), (108, 175, 0.0001678694729787695), (109, 178, 0.005951349806952448), (110, 179, 0.00014049865690887451), (111, 180, 0.0014726451317282462), (112, 182, 0.004452863581342662), (112, 183, 6.862996313303228e-05), (113, 185, 0.0032992329012745784), (114, 188, 0.000391140920594717), (115, 189, 0.0002520282381857272), (116, 191, 0.0006868890493234737), (117, 192, 0.0006956620395128471), (118, 195, 0.0006140520142714194), (119, 196, 0.0002547438130898174), (120, 198, 0.00037790935162609895), (121, 200, 0.0001526228443317383), (122, 203, 0.0004085829332863241), (123, 210, 0.002899421196680779), (124, 212, 0.0011966345521120195), (125, 214, 0.0028864089502507544), (126, 215, 0.0001242865214240169), (127, 218, 0.005202307719150678), (128, 220, 0.00013716671924993062), (129, 223, 0.0005443019301542766), (130, 224, 4.268856487954769e-06), (131, 225, 8.221045969987173e-05), (132, 227, 0.00023175444131257324), (133, 228, 0.00020738626777566053), (134, 229, 8.112551696461422e-05), (134, 230, 0.008129386068965466), (135, 233, 0.003775710110567161), (135, 234, 0.00021051906779469658), (136, 235, 0.00019226555769287585), (137, 236, 0.0023960744611244427), (138, 237, 0.00020555786647796388), (139, 238, 0.0015940333223795364), (140, 239, 0.002732332938262304), (141, 241, 0.00010194244304642281), (142, 242, 0.00320443463726279), (143, 243, 0.00016065549419569795), (144, 244, 0.00030358963143692726), (145, 245, 0.0030188204605017714), (146, 249, 0.00039727615550098726), (147, 251, 0.0006551213418237276), (148, 253, 0.00043972180421309533), (149, 256, 0.0004926755377732651), (150, 259, 0.0020545860251241065), (151, 262, 0.0008199501207560891), (152, 263, 0.0007865128439679177), (153, 264, 0.0002859795572892855), (154, 265, 4.042609788622793e-05), (155, 268, 0.004815555264761954), (156, 269, 0.0001389277585904418), (157, 270, 0.0006721092432891682), (158, 271, 0.0008202978484889103), (159, 272, 0.006735673925869233), (170, 287, 0.0006725323609808838), (185, 300, 0.005111592266371594), (192, 316, 0.007185993499967542), (207, 335, 0.005968143793175413), (216, 349, 0.008866848664456512), (219, 353, 0.007298734875031511), (225, 361, 0.007472108111826781), (226, 362, 0.003466338805843001), (228, 367, 0.0061211664356561465), (229, 368, 0.005426672431154737), (240, 412, 0.006967631716804607), (240, 413, 0.005814057079413328), (240, 414, 3.551337003390904e-05), (243, 433, 0.006432442900498404), (246, 439, 0.0045423174208666295), (258, 467, 0.0030345565204215), (260, 468, 2.8393646741325083e-05), (261, 469, 0.007543859947659829), (269, 477, 0.006515069730203213), (283, 489, 0.003417210998366538)]\n",
            "177\n",
            "[5, 6, 11, 29, 45]\n",
            "151\n"
          ]
        }
      ]
    },
    {
      "cell_type": "code",
      "source": [
        "matches[:10]"
      ],
      "metadata": {
        "colab": {
          "base_uri": "https://localhost:8080/"
        },
        "id": "YukUjYicZJjc",
        "outputId": "c167bc29-aac8-4444-e2c7-f553df0086f8"
      },
      "execution_count": 285,
      "outputs": [
        {
          "output_type": "execute_result",
          "data": {
            "text/plain": [
              "[(1, 2, 0.00010988610938710059),\n",
              " (2, 4, 0.0007649845967242495),\n",
              " (3, 5, 0.00020863352870707666),\n",
              " (4, 6, 0.00012867299967083928),\n",
              " (7, 11, 7.666235090011008e-05),\n",
              " (8, 14, 0.00020833046101750643),\n",
              " (9, 15, 0.0001774015026088326),\n",
              " (10, 17, 0.00016079604439502975),\n",
              " (12, 18, 0.0003493944606752222),\n",
              " (13, 22, 0.00012170541597764247)]"
            ]
          },
          "metadata": {},
          "execution_count": 285
        }
      ]
    },
    {
      "cell_type": "markdown",
      "source": [
        "### Learnings:"
      ],
      "metadata": {
        "id": "GnI636SPMwhb"
      }
    },
    {
      "cell_type": "code",
      "source": [
        "# remove duplicate within the list\n",
        "a = [2,5,3,2,1,1,3,1,3]\n",
        "unique_values = np.unique(a)\n",
        "unique_values"
      ],
      "metadata": {
        "colab": {
          "base_uri": "https://localhost:8080/"
        },
        "id": "DeWwIInKNktc",
        "outputId": "1832dbf3-ffb6-4856-d123-05a980f26cff"
      },
      "execution_count": 286,
      "outputs": [
        {
          "output_type": "execute_result",
          "data": {
            "text/plain": [
              "array([1, 2, 3, 5])"
            ]
          },
          "metadata": {},
          "execution_count": 286
        }
      ]
    },
    {
      "cell_type": "code",
      "source": [
        "# check if any IDs appears more than one\n",
        "from collections import Counter\n",
        "\n",
        "print(any(count > 1 for count in Counter([row[0] for row in matches]).values()))"
      ],
      "metadata": {
        "colab": {
          "base_uri": "https://localhost:8080/"
        },
        "id": "6SoqgX_ldstG",
        "outputId": "074ef782-dfcb-4297-9add-1019f0c36a3d"
      },
      "execution_count": 287,
      "outputs": [
        {
          "output_type": "stream",
          "name": "stdout",
          "text": [
            "True\n"
          ]
        }
      ]
    },
    {
      "cell_type": "code",
      "source": [
        "# check which object matches with more than one object from SuperCOSMOS catalogue\n",
        "[item for item, count in Counter(matched_obj).items() if count > 1]"
      ],
      "metadata": {
        "colab": {
          "base_uri": "https://localhost:8080/"
        },
        "id": "5r5nLKD1d02y",
        "outputId": "e45ef646-3c11-4fab-952b-0de32e67b2bf"
      },
      "execution_count": 288,
      "outputs": [
        {
          "output_type": "execute_result",
          "data": {
            "text/plain": [
              "[94, 102, 107, 112, 134, 135, 240]"
            ]
          },
          "metadata": {},
          "execution_count": 288
        }
      ]
    },
    {
      "cell_type": "code",
      "source": [
        "# print out the object and its count\n",
        "\n",
        "Counter(matched_obj)"
      ],
      "metadata": {
        "id": "2la5_ar9oAbn"
      },
      "execution_count": null,
      "outputs": []
    },
    {
      "cell_type": "code",
      "source": [
        "# check if items in no_matches appear in first column of matches\n",
        "checkif = all(item in no_matches for item in [row[0] for row in matches])"
      ],
      "metadata": {
        "id": "OLLd_0wMfP6b"
      },
      "execution_count": 290,
      "outputs": []
    },
    {
      "cell_type": "code",
      "source": [
        "print(checkif)"
      ],
      "metadata": {
        "colab": {
          "base_uri": "https://localhost:8080/"
        },
        "id": "p87un-5offIe",
        "outputId": "ee2cc596-5906-44fa-8b46-bc3aba1673b6"
      },
      "execution_count": 291,
      "outputs": [
        {
          "output_type": "stream",
          "name": "stdout",
          "text": [
            "False\n"
          ]
        }
      ]
    },
    {
      "cell_type": "code",
      "source": [
        "# check if identical\n",
        "\n",
        "a=a = [2,5,3,2,1,1,3,1,3]\n",
        "b=a = [2,5,3,2,1,1,3,1,3]\n",
        "np.array_equal(a, b)"
      ],
      "metadata": {
        "colab": {
          "base_uri": "https://localhost:8080/"
        },
        "id": "GaOhzqhB2c7m",
        "outputId": "10e747c1-4e81-49da-d830-110220d121e0"
      },
      "execution_count": 292,
      "outputs": [
        {
          "output_type": "execute_result",
          "data": {
            "text/plain": [
              "True"
            ]
          },
          "metadata": {},
          "execution_count": 292
        }
      ]
    }
  ]
}