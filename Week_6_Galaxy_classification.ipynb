{
  "nbformat": 4,
  "nbformat_minor": 0,
  "metadata": {
    "colab": {
      "provenance": []
    },
    "kernelspec": {
      "name": "python3",
      "display_name": "Python 3"
    },
    "language_info": {
      "name": "python"
    }
  },
  "cells": [
    {
      "cell_type": "markdown",
      "source": [
        "In this activity, we will be using machine learning to classify galaxies into three types (ellipticals, spirals or galactic mergers) based on their observed properties.\n",
        "\n",
        "Earlier in the week, you had a go at classifying galaxies by hand on the Galaxy Zoo website which hopefully gave you some intuition for the dataset and how we can distinguish between the different types of galaxy.\n",
        "\n",
        "For our machine learning experiments, we are using the crowd-classified classes from Galaxy Zoo as the training data for our automatic decision tree classifier.\n"
      ],
      "metadata": {
        "id": "z0D6AAPI6y7k"
      }
    },
    {
      "cell_type": "markdown",
      "source": [
        "Data can be downloaded [here](https://groklearning-cdn.com/modules/jSAg5N3xrpKtvpDtCtMTGV/galaxy_catalogue.npy)."
      ],
      "metadata": {
        "id": "rb-afZq77JI8"
      }
    },
    {
      "cell_type": "markdown",
      "source": [
        "## Task i - Splitting the train and test sets\n",
        "\n",
        "To start, we need to split the data into training and testing sets.\n",
        "\n",
        "Your task is to implement the ```splitdata_train_test``` function. It takes a NumPy array and splits it into a training and testing NumPy array based on the specified training fraction. The function takes two arguments and should return two values:\n",
        "\n",
        "<b>Arguments</b>\n",
        "\n",
        "\n",
        "*   ```data```: the NumPy array containing the galaxies in the form described in the previous slide;\n",
        "*   ```fraction_training```: the fraction of the data to use for training. This will be a float between 0 and 1.\n",
        "\n",
        "The number of training rows should be truncated if necessary. For example, with a fraction of 0.67 and our 780 galaxies, the number of training rows is ```780*0.67 = 722.6```, which should be truncated to ```722``` using ```int```. The remaining rows should be used for testing.\n",
        "\n",
        "<b>Return values</b>\n",
        "\n",
        "\n",
        "\n",
        "*   training_set: the first value is a NumPy array training set;\n",
        "*   testing_set: the second value is a NumPy array testing set\n",
        "\n"
      ],
      "metadata": {
        "id": "vi4yXk6WRjdO"
      }
    },
    {
      "cell_type": "markdown",
      "source": [
        "<b>Good practice: randomize the dataset order</b>\n",
        "<br>You shouldn't assume that the data has already been shuffled. If you look at ```data['class']``` you will see that the ```merger, elliptical``` and ```spiral``` examples appear together. You can use:"
      ],
      "metadata": {
        "id": "Zgj_s_rDSd0e"
      }
    },
    {
      "cell_type": "code",
      "source": [
        "np.random.seed(0)\n",
        "np.random.shuffle(data)"
      ],
      "metadata": {
        "id": "WFY2K-KSSpGd"
      },
      "execution_count": null,
      "outputs": []
    },
    {
      "cell_type": "markdown",
      "source": [
        "The first statement ensures the shuffle is the same for each experiment, so you get consistent results.\n",
        "<br>The second shuffles the rows of the data array in place."
      ],
      "metadata": {
        "id": "y8Q_szqDSqkN"
      }
    },
    {
      "cell_type": "code",
      "source": [
        "import numpy as np\n",
        "\n",
        "#load data\n",
        "gal_data = np.load('galaxy_catalogue.npy')\n",
        "\n",
        "for name, value in zip(gal_data.dtype.names, gal_data[0]):\n",
        "  print('{:10} {:.6}'.format(name, value))"
      ],
      "metadata": {
        "colab": {
          "base_uri": "https://localhost:8080/"
        },
        "id": "lSmt66noSv7n",
        "outputId": "80bbfe12-164b-4878-b74b-f87ccf8e5c85"
      },
      "execution_count": null,
      "outputs": [
        {
          "output_type": "stream",
          "name": "stdout",
          "text": [
            "u-g        1.85765\n",
            "g-r        0.67158\n",
            "r-i        0.4231\n",
            "i-z        0.3061\n",
            "ecc        0.585428\n",
            "m4_u       2.25195\n",
            "m4_g       2.33985\n",
            "m4_r       2.38065\n",
            "m4_i       2.35974\n",
            "m4_z       2.39553\n",
            "petroR50_u 3.09512\n",
            "petroR50_r 3.81892\n",
            "petroR50_z 3.82623\n",
            "petroR90_u 5.17481\n",
            "petroR90_r 8.26301\n",
            "petroR90_z 11.4773\n",
            "class      merger\n"
          ]
        }
      ]
    },
    {
      "cell_type": "code",
      "source": [
        "# accessing first 10 value of column\n",
        "gal_data['u-g'][:10]"
      ],
      "metadata": {
        "id": "qDUNxlx4Q-R8",
        "colab": {
          "base_uri": "https://localhost:8080/"
        },
        "outputId": "84514b2a-3906-4565-f444-21495e651ff8"
      },
      "execution_count": 58,
      "outputs": [
        {
          "output_type": "execute_result",
          "data": {
            "text/plain": [
              "array([1.85765, 1.74259, 2.10697, 1.2284 , 1.80792, 2.03214, 2.35909,\n",
              "       1.51422, 1.56721, 1.7118 ])"
            ]
          },
          "metadata": {},
          "execution_count": 58
        }
      ]
    },
    {
      "cell_type": "code",
      "source": [
        "len(gal_data), len(gal_data)*0.7, len(gal_data)*0.3"
      ],
      "metadata": {
        "colab": {
          "base_uri": "https://localhost:8080/"
        },
        "id": "aIvDw6nBQkvP",
        "outputId": "5fee49ac-f163-440d-fa40-f19f61f00cad"
      },
      "execution_count": null,
      "outputs": [
        {
          "output_type": "execute_result",
          "data": {
            "text/plain": [
              "(780, 546.0, 234.0)"
            ]
          },
          "metadata": {},
          "execution_count": 5
        }
      ]
    },
    {
      "cell_type": "code",
      "source": [
        "# write splitdata_train_test function taking two arguments, returning two values\n",
        "\n",
        "def splitdata_train_test(data, fraction_training):\n",
        "  #shuffle the data\n",
        "  np.random.shuffle(data)\n",
        "\n",
        "  #identify the split point\n",
        "  split_point = int(len(data) * fraction_training)\n",
        "  training = data[:split_point]\n",
        "  testing = data[split_point:]\n",
        "  return training, testing"
      ],
      "metadata": {
        "id": "bqSjVeeDTd21"
      },
      "execution_count": null,
      "outputs": []
    },
    {
      "cell_type": "code",
      "source": [
        "fraction_training = 0.7\n",
        "\n",
        "# split the data using the above function\n",
        "training, testing = splitdata_train_test(gal_data, fraction_training)"
      ],
      "metadata": {
        "id": "d6CuSVl7Q0BF"
      },
      "execution_count": null,
      "outputs": []
    },
    {
      "cell_type": "code",
      "source": [
        "print('Number data galaxies:', len(gal_data))\n",
        "print('Train fraction:', fraction_training)\n",
        "print('Number of galaxies in training set:', len(training))\n",
        "print('Number of galaxies in testing set:', len(testing))"
      ],
      "metadata": {
        "colab": {
          "base_uri": "https://localhost:8080/"
        },
        "id": "qZBAqwHFT2tN",
        "outputId": "4e3e4ec9-dada-4490-b702-ff8613efe82f"
      },
      "execution_count": null,
      "outputs": [
        {
          "output_type": "stream",
          "name": "stdout",
          "text": [
            "Number data galaxies: 780\n",
            "Train fraction: 0.7\n",
            "Number of galaxies in training set: 546\n",
            "Number of galaxies in testing set: 234\n"
          ]
        }
      ]
    },
    {
      "cell_type": "markdown",
      "source": [
        "\n",
        "\n",
        "---\n",
        "\n"
      ],
      "metadata": {
        "id": "8FW4-SLBYXv8"
      }
    },
    {
      "cell_type": "markdown",
      "source": [
        "## Task ii - Generating features and targets\n",
        "\n",
        "Next, we generate features and targets for the decision tree.\n",
        "\n",
        "Use the ```generate_features_targets``` from previous activity, however, you need to calculate the concentration values for the ```u, r``` and ```z``` filters.\n",
        "\n",
        "Your task is to add in the concentration calculation for each filter from the 50% and 90% Petrosian radius measurements:"
      ],
      "metadata": {
        "id": "9rDlOfpFVbS8"
      }
    },
    {
      "cell_type": "markdown",
      "source": [
        "![Capture12.JPG](data:image/jpeg;base64,/9j/4AAQSkZJRgABAQEAwADAAAD/4RDaRXhpZgAATU0AKgAAAAgABAE7AAIAAAAFAAAISodpAAQAAAABAAAIUJydAAEAAAAKAAAQyOocAAcAAAgMAAAAPgAAAAAc6gAAAAgAAAAAAAAAAAAAAAAAAAAAAAAAAAAAAAAAAAAAAAAAAAAAAAAAAAAAAAAAAAAAAAAAAAAAAAAAAAAAAAAAAAAAAAAAAAAAAAAAAAAAAAAAAAAAAAAAAAAAAAAAAAAAAAAAAAAAAAAAAAAAAAAAAAAAAAAAAAAAAAAAAAAAAAAAAAAAAAAAAAAAAAAAAAAAAAAAAAAAAAAAAAAAAAAAAAAAAAAAAAAAAAAAAAAAAAAAAAAAAAAAAAAAAAAAAAAAAAAAAAAAAAAAAAAAAAAAAAAAAAAAAAAAAAAAAAAAAAAAAAAAAAAAAAAAAAAAAAAAAAAAAAAAAAAAAAAAAAAAAAAAAAAAAAAAAAAAAAAAAAAAAAAAAAAAAAAAAAAAAAAAAAAAAAAAAAAAAAAAAAAAAAAAAAAAAAAAAAAAAAAAAAAAAAAAAAAAAAAAAAAAAAAAAAAAAAAAAAAAAAAAAAAAAAAAAAAAAAAAAAAAAAAAAAAAAAAAAAAAAAAAAAAAAAAAAAAAAAAAAAAAAAAAAAAAAAAAAAAAAAAAAAAAAAAAAAAAAAAAAAAAAAAAAAAAAAAAAAAAAAAAAAAAAAAAAAAAAAAAAAAAAAAAAAAAAAAAAAAAAAAAAAAAAAAAAAAAAAAAAAAAAAAAAAAAAAAAAAAAAAAAAAAAAAAAAAAAAAAAAAAAAAAAAAAAAAAAAAAAAAAAAAAAAAAAAAAAAAAAAAAAAAAAAAAAAAAAAAAAAAAAAAAAAAAAAAAAAAAAAAAAAAAAAAAAAAAAAAAAAAAAAAAAAAAAAAAAAAAAAAAAAAAAAAAAAAAAAAAAAAAAAAAAAAAAAAAAAAAAAAAAAAAAAAAAAAAAAAAAAAAAAAAAAAAAAAAAAAAAAAAAAAAAAAAAAAAAAAAAAAAAAAAAAAAAAAAAAAAAAAAAAAAAAAAAAAAAAAAAAAAAAAAAAAAAAAAAAAAAAAAAAAAAAAAAAAAAAAAAAAAAAAAAAAAAAAAAAAAAAAAAAAAAAAAAAAAAAAAAAAAAAAAAAAAAAAAAAAAAAAAAAAAAAAAAAAAAAAAAAAAAAAAAAAAAAAAAAAAAAAAAAAAAAAAAAAAAAAAAAAAAAAAAAAAAAAAAAAAAAAAAAAAAAAAAAAAAAAAAAAAAAAAAAAAAAAAAAAAAAAAAAAAAAAAAAAAAAAAAAAAAAAAAAAAAAAAAAAAAAAAAAAAAAAAAAAAAAAAAAAAAAAAAAAAAAAAAAAAAAAAAAAAAAAAAAAAAAAAAAAAAAAAAAAAAAAAAAAAAAAAAAAAAAAAAAAAAAAAAAAAAAAAAAAAAAAAAAAAAAAAAAAAAAAAAAAAAAAAAAAAAAAAAAAAAAAAAAAAAAAAAAAAAAAAAAAAAAAAAAAAAAAAAAAAAAAAAAAAAAAAAAAAAAAAAAAAAAAAAAAAAAAAAAAAAAAAAAAAAAAAAAAAAAAAAAAAAAAAAAAAAAAAAAAAAAAAAAAAAAAAAAAAAAAAAAAAAAAAAAAAAAAAAAAAAAAAAAAAAAAAAAAAAAAAAAAAAAAAAAAAAAAAAAAAAAAAAAAAAAAAAAAAAAAAAAAAAAAAAAAAAAAAAAAAAAAAAAAAAAAAAAAAAAAAAAAAAAAAAAAAAAAAAAAAAAAAAAAAAAAAAAAAAAAAAAAAAAAAAAAAAAAAAAAAAAAAAAAAAAAAAAAAAAAAAAAAAAAAAAAAAAAAAAAAAAAAAAAAAAAAAAAAAAAAAAAAAAAAAAAAAAAAAAAAAAAAAAAAAAAAAAAAAAAAAAAAAAAAAAAAAAAAAAAAAAAAAAAAAAAAAAAAAAAAAAAAAAAAAAAAAAAAAAAAAAAAAAAAAAAAAAAAAAAAAAAAAAAAAAAAAAAAAAAAAAAAAAAAAAAAAAAAAAAAAAAAAAAAAAAAAAAAAAAAAAAAAAAAAAAAAAAAAAAAAAAAAAAAAAAAAAAAAAAAAAAAAAAAAAAAAAAAAAAAAAAAAAAAAAAAAAAAAAAAAAAAAAAAAAAAAAAAAAAAAAAAAAAAAAAAAAAAAAAAAAAAAAAAAAAAAAAAAAAAAAAAAAAAAAAAAAAAAAAAAAAAAAAAAAAAAAAAAAAAAAAAAAAAAAAAAAAAAAAAAAAAAAAAAAAAAAAAAAAAAAAAAAAAAAAAAAAAAAAAAAAAAAAAAAAAAAAAAAAAAAAAAAAAAAAAAAAAAAAAAAAAAAAAAAAAAAAAAAAAAAAAAAAAAAAAAAAAAAAAAAAAAAAAAAAAAAAAAAAAAAAAAAAAAAAAAAAAAAAAAAAAAAAAAAAAAAAAAAAAAAAAAAAAAAAAAAAAAAAAAAAAAAAAAAAAAAAAAAAAAAAAAAAAAAAAAAAAAAAAAAAAAAAAAAAAAAAAAAAAAAAAAAAAAAAAAAAAAAAAAAAAAAAAAAAAAAAAAAAAAAAAAAAAAAAAAAAAAAAAAAAAAAAAAAAAAAAAAAAAAAAAAAAAAAAAAAAAAAAAAAAAAAAAAAAAAAAAAAAAAAAAAAAAAAAAAAAAAAAAAAAAAAAAAAAAAAAAAAAAAAAAAAAAAAAAAAAAAAAAAAAAAAAAAAAAAAAAAAAAAAAAAAAAAAAAAAAAAAAAAAAAAAAAAAAAAAAAAAAAAAAAAAAAAAAAAAAAAAAAAAAAAAAAAAAAAAAAAAAAAAAAAAAAAAAAAAAAAAAAAAAAAAAAAAAAAAAAAAAAAAAAAAAAAAAAAAAAAAAAAAAAAAAAAAAAAAAAAAAAAAAAAAAAAAHVzZXIAAAAFkAMAAgAAABQAABCekAQAAgAAABQAABCykpEAAgAAAAM4OAAAkpIAAgAAAAM4OAAA6hwABwAACAwAAAiSAAAAABzqAAAACAAAAAAAAAAAAAAAAAAAAAAAAAAAAAAAAAAAAAAAAAAAAAAAAAAAAAAAAAAAAAAAAAAAAAAAAAAAAAAAAAAAAAAAAAAAAAAAAAAAAAAAAAAAAAAAAAAAAAAAAAAAAAAAAAAAAAAAAAAAAAAAAAAAAAAAAAAAAAAAAAAAAAAAAAAAAAAAAAAAAAAAAAAAAAAAAAAAAAAAAAAAAAAAAAAAAAAAAAAAAAAAAAAAAAAAAAAAAAAAAAAAAAAAAAAAAAAAAAAAAAAAAAAAAAAAAAAAAAAAAAAAAAAAAAAAAAAAAAAAAAAAAAAAAAAAAAAAAAAAAAAAAAAAAAAAAAAAAAAAAAAAAAAAAAAAAAAAAAAAAAAAAAAAAAAAAAAAAAAAAAAAAAAAAAAAAAAAAAAAAAAAAAAAAAAAAAAAAAAAAAAAAAAAAAAAAAAAAAAAAAAAAAAAAAAAAAAAAAAAAAAAAAAAAAAAAAAAAAAAAAAAAAAAAAAAAAAAAAAAAAAAAAAAAAAAAAAAAAAAAAAAAAAAAAAAAAAAAAAAAAAAAAAAAAAAAAAAAAAAAAAAAAAAAAAAAAAAAAAAAAAAAAAAAAAAAAAAAAAAAAAAAAAAAAAAAAAAAAAAAAAAAAAAAAAAAAAAAAAAAAAAAAAAAAAAAAAAAAAAAAAAAAAAAAAAAAAAAAAAAAAAAAAAAAAAAAAAAAAAAAAAAAAAAAAAAAAAAAAAAAAAAAAAAAAAAAAAAAAAAAAAAAAAAAAAAAAAAAAAAAAAAAAAAAAAAAAAAAAAAAAAAAAAAAAAAAAAAAAAAAAAAAAAAAAAAAAAAAAAAAAAAAAAAAAAAAAAAAAAAAAAAAAAAAAAAAAAAAAAAAAAAAAAAAAAAAAAAAAAAAAAAAAAAAAAAAAAAAAAAAAAAAAAAAAAAAAAAAAAAAAAAAAAAAAAAAAAAAAAAAAAAAAAAAAAAAAAAAAAAAAAAAAAAAAAAAAAAAAAAAAAAAAAAAAAAAAAAAAAAAAAAAAAAAAAAAAAAAAAAAAAAAAAAAAAAAAAAAAAAAAAAAAAAAAAAAAAAAAAAAAAAAAAAAAAAAAAAAAAAAAAAAAAAAAAAAAAAAAAAAAAAAAAAAAAAAAAAAAAAAAAAAAAAAAAAAAAAAAAAAAAAAAAAAAAAAAAAAAAAAAAAAAAAAAAAAAAAAAAAAAAAAAAAAAAAAAAAAAAAAAAAAAAAAAAAAAAAAAAAAAAAAAAAAAAAAAAAAAAAAAAAAAAAAAAAAAAAAAAAAAAAAAAAAAAAAAAAAAAAAAAAAAAAAAAAAAAAAAAAAAAAAAAAAAAAAAAAAAAAAAAAAAAAAAAAAAAAAAAAAAAAAAAAAAAAAAAAAAAAAAAAAAAAAAAAAAAAAAAAAAAAAAAAAAAAAAAAAAAAAAAAAAAAAAAAAAAAAAAAAAAAAAAAAAAAAAAAAAAAAAAAAAAAAAAAAAAAAAAAAAAAAAAAAAAAAAAAAAAAAAAAAAAAAAAAAAAAAAAAAAAAAAAAAAAAAAAAAAAAAAAAAAAAAAAAAAAAAAAAAAAAAAAAAAAAAAAAAAAAAAAAAAAAAAAAAAAAAAAAAAAAAAAAAAAAAAAAAAAAAAAAAAAAAAAAAAAAAAAAAAAAAAAAAAAAAAAAAAAAAAAAAAAAAAAAAAAAAAAAAAAAAAAAAAAAAAAAAAAAAAAAAAAAAAAAAAAAAAAAAAAAAAAAAAAAAAAAAAAAAAAAAAAAAAAAAAAAAAAAAAAAAAAAAAAAAAAAAAAAAAAAAAAAAAAAAAAAAAAAAAAAAAAAAAAAAAAAAAAAAAAAAAAAAAAAAAAAAAAAAAAAAAAAAAAAAAAAAAAAAAAAAAAAAAAAAAAAAAAAAAAAAAAAAAAAAAAAAAAAAAAAAAAAAAAAAAAAAAAAAAAAAAAAAAAAAAAAAAAAAAAAAAAAAAAAAAAAAAAAAAAAAAAAAAAAAAAAAAAAAAAAAAAAAAAAAAAAAAAAAAAAAAAAAAAAAAAAAAAAAAAAAAAAAAAAAAAAAAAAAAAAAAAAAAAAAAAAAAAAAAAAAAAAAAAAAAAAAAAAAAAAAAAAAAAAAAAAAAAAAAAAAAAAAAAAAAAAAAAAAAAAAAAAAAAAAAAAAAAAAAAAAAAAAAAAAAAAAAAAAAAAAAAAAAAAAAAAAAAAAAAAAAAAAAAAAAAAAAAAAAAAAAAAAAAAAAAAAAAAAAAAAAAAAAAAAAAAAAAAAAAAAAAAAAAAAAAAAAAAAAAAAAAAAAAAAAAAAAAAAAAAAAAAAAAAAAAAAAAAAAAAAAAAAAAAAAAAAAAAAAAAAAAAAAAAAAAAAAAAAAAAAAAAAAAAAAAAAAAAAAAAAAAAAAAAAAAAAAAAAAAAAAAAAAAAAAAAAAAAAAAAAAAAAAAAAAAAAAAAAAAAAAAAAAAAAAAAAAAAAAAAAAAAAAAAAAAAAAAAAAAAAAAAAAAAAAAAAAAAAAAAAAAAAAAAAAAAAAAAAAAAAAAAAAAAAAAAAAAAAAAAAAAAAAAAAAAAAAAAAAAAAAAAAAAAAAAAAAAAAAAAAAAAAAAAAAAAAAAAAAAAAAAAAAAAAAAAAAAAAAAAAAAAAAAAAAAAAAAAAAAAAAAAAAAAAAAAAAAAAAAAAAAAAAAAAAAAAAAAAAAAAAAAAAAAAAAAAAAAAAAAAAAAAAAAAAAAAAAAAAAAAAAAAAAAAAAAAAAAAAAAAAAAAAAAAAAAAAAAAAAAAAAAAAAAAAAAAAAMjAyMzowOToxMiAxMzowMzowNgAyMDIzOjA5OjEyIDEzOjAzOjA2AAAAdQBzAGUAcgAAAP/hCxdodHRwOi8vbnMuYWRvYmUuY29tL3hhcC8xLjAvADw/eHBhY2tldCBiZWdpbj0n77u/JyBpZD0nVzVNME1wQ2VoaUh6cmVTek5UY3prYzlkJz8+DQo8eDp4bXBtZXRhIHhtbG5zOng9ImFkb2JlOm5zOm1ldGEvIj48cmRmOlJERiB4bWxuczpyZGY9Imh0dHA6Ly93d3cudzMub3JnLzE5OTkvMDIvMjItcmRmLXN5bnRheC1ucyMiPjxyZGY6RGVzY3JpcHRpb24gcmRmOmFib3V0PSJ1dWlkOmZhZjViZGQ1LWJhM2QtMTFkYS1hZDMxLWQzM2Q3NTE4MmYxYiIgeG1sbnM6ZGM9Imh0dHA6Ly9wdXJsLm9yZy9kYy9lbGVtZW50cy8xLjEvIi8+PHJkZjpEZXNjcmlwdGlvbiByZGY6YWJvdXQ9InV1aWQ6ZmFmNWJkZDUtYmEzZC0xMWRhLWFkMzEtZDMzZDc1MTgyZjFiIiB4bWxuczp4bXA9Imh0dHA6Ly9ucy5hZG9iZS5jb20veGFwLzEuMC8iPjx4bXA6Q3JlYXRlRGF0ZT4yMDIzLTA5LTEyVDEzOjAzOjA2Ljg4MTwveG1wOkNyZWF0ZURhdGU+PC9yZGY6RGVzY3JpcHRpb24+PHJkZjpEZXNjcmlwdGlvbiByZGY6YWJvdXQ9InV1aWQ6ZmFmNWJkZDUtYmEzZC0xMWRhLWFkMzEtZDMzZDc1MTgyZjFiIiB4bWxuczpkYz0iaHR0cDovL3B1cmwub3JnL2RjL2VsZW1lbnRzLzEuMS8iPjxkYzpjcmVhdG9yPjxyZGY6U2VxIHhtbG5zOnJkZj0iaHR0cDovL3d3dy53My5vcmcvMTk5OS8wMi8yMi1yZGYtc3ludGF4LW5zIyI+PHJkZjpsaT51c2VyPC9yZGY6bGk+PC9yZGY6U2VxPg0KCQkJPC9kYzpjcmVhdG9yPjwvcmRmOkRlc2NyaXB0aW9uPjwvcmRmOlJERj48L3g6eG1wbWV0YT4NCiAgICAgICAgICAgICAgICAgICAgICAgICAgICAgICAgICAgICAgICAgICAgICAgICAgICAgICAgICAgICAgICAgICAgICAgICAgICAgICAgICAgICAgICAgICAgICAgICAgICAKICAgICAgICAgICAgICAgICAgICAgICAgICAgICAgICAgICAgICAgICAgICAgICAgICAgICAgICAgICAgICAgICAgICAgICAgICAgICAgICAgICAgICAgICAgICAgICAgICAgIAogICAgICAgICAgICAgICAgICAgICAgICAgICAgICAgICAgICAgICAgICAgICAgICAgICAgICAgICAgICAgICAgICAgICAgICAgICAgICAgICAgICAgICAgICAgICAgICAgICAgCiAgICAgICAgICAgICAgICAgICAgICAgICAgICAgICAgICAgICAgICAgICAgICAgICAgICAgICAgICAgICAgICAgICAgICAgICAgICAgICAgICAgICAgICAgICAgICAgICAgICAKICAgICAgICAgICAgICAgICAgICAgICAgICAgICAgICAgICAgICAgICAgICAgICAgICAgICAgICAgICAgICAgICAgICAgICAgICAgICAgICAgICAgICAgICAgICAgICAgICAgIAogICAgICAgICAgICAgICAgICAgICAgICAgICAgICAgICAgICAgICAgICAgICAgICAgICAgICAgICAgICAgICAgICAgICAgICAgICAgICAgICAgICAgICAgICAgICAgICAgICAgCiAgICAgICAgICAgICAgICAgICAgICAgICAgICAgICAgICAgICAgICAgICAgICAgICAgICAgICAgICAgICAgICAgICAgICAgICAgICAgICAgICAgICAgICAgICAgICAgICAgICAKICAgICAgICAgICAgICAgICAgICAgICAgICAgICAgICAgICAgICAgICAgICAgICAgICAgICAgICAgICAgICAgICAgICAgICAgICAgICAgICAgICAgICAgICAgICAgICAgICAgIAogICAgICAgICAgICAgICAgICAgICAgICAgICAgICAgICAgICAgICAgICAgICAgICAgICAgICAgICAgICAgICAgICAgICAgICAgICAgICAgICAgICAgICAgICAgICAgICAgICAgCiAgICAgICAgICAgICAgICAgICAgICAgICAgICAgICAgICAgICAgICAgICAgICAgICAgICAgICAgICAgICAgICAgICAgICAgICAgICAgICAgICAgICAgICAgICAgICAgICAgICAKICAgICAgICAgICAgICAgICAgICAgICAgICAgICAgICAgICAgICAgICAgICAgICAgICAgICAgICAgICAgICAgICAgICAgICAgICAgICAgICAgICAgICAgICAgICAgICAgICAgIAogICAgICAgICAgICAgICAgICAgICAgICAgICAgICAgICAgICAgICAgICAgICAgICAgICAgICAgICAgICAgICAgICAgICAgICAgICAgICAgICAgICAgICAgICAgICAgICAgICAgCiAgICAgICAgICAgICAgICAgICAgICAgICAgICAgICAgICAgICAgICAgICAgICAgICAgICAgICAgICAgICAgICAgICAgICAgICAgICAgICAgICAgICAgICAgICAgICAgICAgICAKICAgICAgICAgICAgICAgICAgICAgICAgICAgICAgICAgICAgICAgICAgICAgICAgICAgICAgICAgICAgICAgICAgICAgICAgICAgICAgICAgICAgICAgICAgICAgICAgICAgIAogICAgICAgICAgICAgICAgICAgICAgICAgICAgICAgICAgICAgICAgICAgICAgICAgICAgICAgICAgICAgICAgICAgICAgICAgICAgICAgICAgICAgICAgICAgICAgICAgICAgCiAgICAgICAgICAgICAgICAgICAgICAgICAgICAgICAgICAgICAgICAgICAgICAgICAgICAgICAgICAgICAgICAgICAgICAgICAgICAgICAgICAgICAgICAgICAgICAgICAgICAKICAgICAgICAgICAgICAgICAgICAgICAgICAgICAgICAgICAgICAgICAgICAgICAgICAgICAgICAgICAgICAgICAgICAgICAgICAgICAgICAgICAgICAgICAgICAgICAgICAgIAogICAgICAgICAgICAgICAgICAgICAgICAgICAgICAgICAgICAgICAgICAgICAgICAgICAgICAgICAgICAgICAgICAgICAgICAgICAgICAgICAgICAgICAgICAgICAgICAgICAgCiAgICAgICAgICAgICAgICAgICAgICAgICAgICAgICAgICAgICAgICAgICAgICAgICAgICAgICAgICAgICAgICAgICAgICAgICAgICAgICAgICAgICAgICAgICAgICAgICAgICAKICAgICAgICAgICAgICAgICAgICAgICAgICAgICAgICAgICAgICAgICAgICAgICAgICAgICAgICAgICAgICAgICAgICAgICAgICAgICAgICAgICAgICAgICAgICAgICAgICAgIAogICAgICAgICAgICAgICAgICAgICAgICAgICAgPD94cGFja2V0IGVuZD0ndyc/Pv/bAEMABwUFBgUEBwYFBggHBwgKEQsKCQkKFQ8QDBEYFRoZGBUYFxseJyEbHSUdFxgiLiIlKCkrLCsaIC8zLyoyJyorKv/bAEMBBwgICgkKFAsLFCocGBwqKioqKioqKioqKioqKioqKioqKioqKioqKioqKioqKioqKioqKioqKioqKioqKioqKv/AABEIAC0A/gMBIgACEQEDEQH/xAAfAAABBQEBAQEBAQAAAAAAAAAAAQIDBAUGBwgJCgv/xAC1EAACAQMDAgQDBQUEBAAAAX0BAgMABBEFEiExQQYTUWEHInEUMoGRoQgjQrHBFVLR8CQzYnKCCQoWFxgZGiUmJygpKjQ1Njc4OTpDREVGR0hJSlNUVVZXWFlaY2RlZmdoaWpzdHV2d3h5eoOEhYaHiImKkpOUlZaXmJmaoqOkpaanqKmqsrO0tba3uLm6wsPExcbHyMnK0tPU1dbX2Nna4eLj5OXm5+jp6vHy8/T19vf4+fr/xAAfAQADAQEBAQEBAQEBAAAAAAAAAQIDBAUGBwgJCgv/xAC1EQACAQIEBAMEBwUEBAABAncAAQIDEQQFITEGEkFRB2FxEyIygQgUQpGhscEJIzNS8BVictEKFiQ04SXxFxgZGiYnKCkqNTY3ODk6Q0RFRkdISUpTVFVWV1hZWmNkZWZnaGlqc3R1dnd4eXqCg4SFhoeIiYqSk5SVlpeYmZqio6Slpqeoqaqys7S1tre4ubrCw8TFxsfIycrS09TV1tfY2dri4+Tl5ufo6ery8/T19vf4+fr/2gAMAwEAAhEDEQA/APpGiiigAooooAKKKKACiiigAooooAKKKKACiiqOpatBpk9hFMCWvrkW0YBH3irNn6YU0AXqKKKACiiigAooooAKKzLDUpr7XNTgRU+yWRjhD4O5piu5xnpgKyD65rToAKKKoW+rQ3OuXulxq3m2UUUkjZGP3m7A+vyZ/EUAX6KKKACiiigAooooAKKKKACiiigArzVtPtPE/wARvF2l+LAGigs4Bp6SMB5MDIfMmjzwG3cFxyMAV6VVK/0bS9VeJ9U020vWhOYjcQLIUPtuBx+FId9Dg9Fgstb8eXmm6qg1HSbTSLR9JS+HmiWNgd82HHL5ABY8/nXJXyvqvhPw7Lfp5qxeMRZ2F2TmVrPzHCgSfe28YznkKK9qv9H0zVY401TTrS9SM5RbmBZAh6cbgcVDfeHNE1RYV1PR9PvFtxthFxapIIx6LkHH4VSdpJ/1vf7+n3+gv6/C3/BPMtRe78P6p8SbfwpF9lMGnWs8EFsu1Y3ZGDuqjgNtGeOpArq/DOh+GbS60TVdKl8u7utOKRiGT5btcKzSSY++wJHzMep9cV0Vr4c0Sy1Br+y0bT7e8bO65itUSQ565YDNS2OjaXpk0sum6bZ2ckxzK9vAsbSc55IHPPrSWn9ev+YPX+vT/Ir6/N5NvEft2p2eX+9p1l9oZuOhHlSYHvgfWsL7d/1MPiz/AMEX/wBx12VFAFaxIl02HdJNOGjGXuYvLkf3ZNq4PttH0ryHS9F8OJovxGa8tLSAWGo3DQuiKrWgEalGjx9w7hxjGSPavZjnadoBOOATiuI8M+CJLTWNXvfEml6PdNfX7X0Einz3t2IUbBvjHTbncCOe1Jq7fS6f5oadkvX/ADOV0WXVvEPiHQtO8XWUF6jeHEnittQkKpNMWAkcja26QLt6jIyT3pL7QokvvAMGs3SayI9RubV5JHaSJkVZNqFX+Ulcbd2Mnb7V6xqGlafq0KxarYW17GrblS5hWQA+oDA80l1pGm31glle6fa3FpHjZbzQK8a46YUjAx2py1187/jf/gEpWVvK34W/4J5vrGjeH/FHxA8KH+zo/wCz9R0i6ZoxH5RljCxhA23B+UNx6HGOlaGm6da3/wAR9b0XXrSK407TNPtF0u2u/wB6giKsHkAfOW3AKW68YzXYz+GtCur+O+udF0+a7jxsuJLVGkTHTDEZGO1T6ho+mauIxqunWl8IySguYFk2k+m4HFP/AIP5v/Mff5fp/kcT4Q8US6V8LrrWtZW5u7OxuLgW7oQ0ktsshEZBcjdxwDnJAHWtyfx1p1lc3FtqNrfWtzBax3fkNEsjyRO4QFRGzZO4gbevoDUPjvS73VtHsdH03TZZ7SW8gN4YZI4xHbo4ZgMup52gYHrWWNB1pZPESyaVHc/ab2N7Wa4n8wvbIYyIw3mK+c+YwDMFB74NJa/16f5/gw2/rz/r70dPL4ntI7eyc2155l/P5FrbyQGKWVgpYna+0qAFY/Njp7jLovEthP4Xl12Jm+ywxyPIrDDKYyQyEf3gykcZ56Zrlk8Oa6+sWWsTxSNFZ6xLc2+ntMhkht3gMeAd237x3bd2ACQPSrekeF7+28L2GlXKALPqcl7fLvB8tDK8wj9/m2KccY3Ubr+vL/g/cGz/AK8/+B95D4g0dY/gxq8WrW8U101hPeTiRAwW4ZWckZ7qxwD2wK5mS3tdL0f4cX3hmKKLV7ye2ika3wGuoDFmbzCOXUYByc4Nek+LNOvNY8KajpmnCDz723e3DTyFFQMpBbhWJxnpjn1FVvCXhm30LSbQT6ZpsGpxW6QTXNogLShQBkuUVjnGcH8zTja7fp+F/wDgA9kvX8bf8E890Kyvte8Nz61ePZWHiC21hmn1GWZjPbss2BBtCZ2FMKE3YIbOOa0vDlrpGm/FbxdJd2gmm+2WUdtJMpmlRpYjyGbLAHnv0HoK9EfRdLk1NdSfTbNr5cbbowKZR/wPGf1p76Vp8mpLqElhbPeomxbloVMir/dDYzjk8e9JaW/rt/l/w4PW/n/wf8zzjwd4U0iTxJ4ovotPjF1pmtu1iImMaxHyV4AUgYO45HQ8Z6Vk78/BIeJ9o/4Szzsi82/6T9q+0bfKz1x/D5fTHGMV6rp/h3RNIuXuNK0fT7GeQEPLbWqRswznBKgE81J/Yek/2n/aX9mWf27r9q+zp5vp9/Gf1oWiS8l+H+f+Q+t/N/1/XmUb/wASjTNS0rTZ9Puri81JHMa2/l7VKLufO51wBxz7iqMPxC0q6iX7Fb3lzc7bhpLSNE8yIQNtk3ZYKcMQBgnOeM81na7o2s6v4xvb2LT7mKK00eW302dbtYt9w7Ek5R9yjCoASPWqn/CO6tFp2ky2uhyW+oRaVNYzyQ3EC7WkCElk6HMm5twJIwSVbOKV21f1/W35K/qCSTS/rp/n+B0R8eaMV82F5Z7RRbmW6jUeXCJ8eVuyQecqeAcBhmukryiH4bapp/h/UNAiH2iPURpwN2rqFi8gIJMgnd0jyMA5yBxXq9W7dCVe2oUUUVIwooooAKKKKACiiigAooooAKKKKACiiigAooooAKKKKACiiigAooooAKKKKACiiigAooooAKKKKACiiigAooooA//Z)"
      ],
      "metadata": {
        "id": "bTNTUHZqV902"
      }
    },
    {
      "cell_type": "markdown",
      "source": [
        "As described earlier, data has the following fields:\n",
        "\n",
        "*   <b>colours:</b> <font color=\"green\">```u-g, g-r, r-i, and i-z;```</font>\n",
        "*   <b>eccentricity:</b> <font color=\"green\">```ecc```</font> A circle has an eccentricity of zero, so the eccentricity shows you how \"un-circular\" the curve is. Bigger eccentricities are less curved\n",
        "*   <b>4th adaptive moments:</b> <font color=\"green\">```m4_u, m4_g, m4_r, m4_i, and m4_z;```</font>\n",
        "*  <b>50% Petrosian:</b> <font color=\"green\">```petroR50_u, petroR50_r, petroR50_z;```</font>\n",
        "*  <b>90% Petrosian:</b> <font color=\"green\">```petroR90_u, petroR90_r, petroR90_z.```</font>\n",
        "<br></br>Concentration is similar to the luminosity profile of the galaxy, which measures what proportion of a galaxy's total light is emitted within what radius. A simplified way to represent this is to take the ratio of the radii containing 50% and 90% of the Petrosian flux.\n"
      ],
      "metadata": {
        "id": "xLUPBZ5LV92p"
      }
    },
    {
      "cell_type": "code",
      "source": [
        "# build from the previous week, add in calculated concentrations\n",
        "def generate_features_targets(data):\n",
        "\n",
        "  # identify the targets\n",
        "  targets = data['class']\n",
        "\n",
        "  # identifying features\n",
        "  # start with creating array of 780 rows, 13 columns\n",
        "  features = np.empty(shape=(len(data), 13))\n",
        "  features[:, 0] = data['u-g']\n",
        "  features[:, 1] = data['g-r']\n",
        "  features[:, 2] = data['r-i']\n",
        "  features[:, 3] = data['i-z']\n",
        "  features[:, 4] = data['ecc']\n",
        "  features[:, 5] = data['m4_u']\n",
        "  features[:, 6] = data['m4_g']\n",
        "  features[:, 7] = data['m4_r']\n",
        "  features[:, 8] = data['m4_i']\n",
        "  features[:, 9] = data['m4_z']\n",
        "\n",
        "  # fill the remaining 3 columns with concentrations in the u, r and z filters\n",
        "  # concentration in u filter\n",
        "  features[:, 10] = data['petroR50_u']/ data['petroR90_u']\n",
        "  # concentration in r filter\n",
        "  features[:, 11] = data['petroR50_r']/ data['petroR90_r']\n",
        "  # concentration in z filter\n",
        "  features[:, 12] = data['petroR50_z']/ data['petroR90_z']\n",
        "\n",
        "  return features, targets"
      ],
      "metadata": {
        "id": "CyTFraZzYkfM"
      },
      "execution_count": null,
      "outputs": []
    },
    {
      "cell_type": "code",
      "source": [
        "features, targets = generate_features_targets(gal_data)"
      ],
      "metadata": {
        "id": "-RnMn5kteAUN"
      },
      "execution_count": null,
      "outputs": []
    },
    {
      "cell_type": "code",
      "source": [
        "# Print the shape of each array to check the arrays are the correct dimensions.\n",
        "print(\"Features shape:\", features.shape)\n",
        "print(\"Targets shape:\", targets.shape)"
      ],
      "metadata": {
        "colab": {
          "base_uri": "https://localhost:8080/"
        },
        "id": "3Sp-acsJeCgt",
        "outputId": "172e4cbd-afc9-415d-fdac-365a1fe93168"
      },
      "execution_count": null,
      "outputs": [
        {
          "output_type": "stream",
          "name": "stdout",
          "text": [
            "Features shape: (780, 13)\n",
            "Targets shape: (780,)\n"
          ]
        }
      ]
    },
    {
      "cell_type": "markdown",
      "source": [
        "### Learnings:\n",
        "\n",
        "*   How to create an empty array - ```np.empty(x)```\n",
        ">> -Return a new array of given shape and type, without initializing entries. Unlike ```np.zeros``` which will fill array with 0.\n",
        ">> <br>-It is typically used for large arrays when performance is critical, and the values will be filled in later.\n",
        ">> <br>-*numpy.empty(shape, dtype=float, order='C', *, like=None)*\n",
        ">> <br>-For example s = (2, 2) >> np.zeros(s) will create array ([[ , ], [ , ]])\n",
        ">> <br>https://numpy.org/doc/stable/reference/generated/numpy.empty.html"
      ],
      "metadata": {
        "id": "Kui_FvSGeN4a"
      }
    },
    {
      "cell_type": "markdown",
      "source": [
        "\n",
        "\n",
        "---\n",
        "\n"
      ],
      "metadata": {
        "id": "4EOel20njGK7"
      }
    },
    {
      "cell_type": "markdown",
      "source": [
        "## Task iii - Train the decision tree classifier\n",
        "\n",
        "It is time to use the functions we wrote to split the data and generate the features, and then train a decision tree classifier.\n",
        "\n",
        "Your task is complete the <font color=\"red\">```dtc_predict_actual```</font> function. The purpose of the function is to perform a held out validation and return the predicted and actual classes for later comparison.\n",
        "\n",
        "The function takes a single argument which is the full data set and should return two NumPy arrays containing the predicted and actual classes respectively.\n",
        "\n",
        "You will also need to copy your solutions from the previous two questions into the spaces allocated."
      ],
      "metadata": {
        "id": "nwZ_S8VvjTVJ"
      }
    },
    {
      "cell_type": "code",
      "source": [
        "# import libraries\n",
        "import numpy as np\n",
        "from sklearn.tree import DecisionTreeClassifier"
      ],
      "metadata": {
        "id": "ymteL-QJ0BpY"
      },
      "execution_count": null,
      "outputs": []
    },
    {
      "cell_type": "code",
      "source": [
        "# copy your splitdata_train_test function here\n",
        "def splitdata_train_test(data, fraction_training):\n",
        "\n",
        "  #shuffle the data\n",
        "  np.random.shuffle(data)\n",
        "\n",
        "  #identity the split point\n",
        "  split_point = int(len(data) * fraction_training)\n",
        "  training = data[:split_point]\n",
        "  testing = data[split_point:]\n",
        "  return training, testing\n",
        "\n",
        "# copy your generate_features_targets function here\n",
        "def generate_features_targets(data):\n",
        "  # complete the function by calculating the concentrations\n",
        "\n",
        "  # identify the targets\n",
        "  targets = data['class']\n",
        "\n",
        "  # identifying features\n",
        "  # start with creating array of 780 rows, 13 columns\n",
        "  features = np.empty(shape=(len(data), 13))\n",
        "  features[:, 0] = data['u-g']\n",
        "  features[:, 1] = data['g-r']\n",
        "  features[:, 2] = data['r-i']\n",
        "  features[:, 3] = data['i-z']\n",
        "  features[:, 4] = data['ecc']\n",
        "  features[:, 5] = data['m4_u']\n",
        "  features[:, 6] = data['m4_g']\n",
        "  features[:, 7] = data['m4_r']\n",
        "  features[:, 8] = data['m4_i']\n",
        "  features[:, 9] = data['m4_z']\n",
        "  features[:, 10] = data['petroR50_u']/ data['petroR90_u']\n",
        "  features[:, 11] = data['petroR50_r']/ data['petroR90_r']\n",
        "  features[:, 12] = data['petroR50_z']/ data['petroR90_z']\n",
        "  return features, targets\n",
        "\n",
        "\n",
        "# complete this function by splitting the data set and training a decision tree classifier\n",
        "def dtc_predict_actual(data):\n",
        "  # split the data into training and testing sets using a training fraction of 0.7\n",
        "  fraction_training = 0.7\n",
        "  training, testing = splitdata_train_test(data, fraction_training)\n",
        "\n",
        "  # generate the feature and targets for the training and test sets\n",
        "  # i.e. train_features, train_targets, test_features, test_targets\n",
        "  train_features, train_targets = generate_features_targets(training)\n",
        "  test_features, test_targets = generate_features_targets(testing)\n",
        "  actual_class = test_targets\n",
        "\n",
        "\n",
        "  # instantiate a decision tree classifier\n",
        "  dtc = DecisionTreeClassifier()\n",
        "\n",
        "  # train the classifier with the train_features and train_targets\n",
        "  dtc.fit(train_features, train_targets)\n",
        "\n",
        "  # get predictions for the test_features\n",
        "  predicted_class = dtc.predict(test_features)\n",
        "\n",
        "  # return the predictions and the test_targets\n",
        "  return predicted_class, actual_class"
      ],
      "metadata": {
        "id": "KQGyopjTkO45"
      },
      "execution_count": null,
      "outputs": []
    },
    {
      "cell_type": "code",
      "source": [
        "predicted_class, actual_class = dtc_predict_actual(gal_data)"
      ],
      "metadata": {
        "id": "_0F2RMmPjycT"
      },
      "execution_count": null,
      "outputs": []
    },
    {
      "cell_type": "code",
      "source": [
        "print(\"Some initial results...\\n   predicted,  actual\")\n",
        "for i in range(10):\n",
        "  print(\"{}. {}, {}\".format(i, predicted_class[i], actual_class[i]))"
      ],
      "metadata": {
        "colab": {
          "base_uri": "https://localhost:8080/"
        },
        "id": "V5Vi3cfQnqjK",
        "outputId": "11e201d2-d8e2-4124-e55f-5f456b46078e"
      },
      "execution_count": null,
      "outputs": [
        {
          "output_type": "stream",
          "name": "stdout",
          "text": [
            "Some initial results...\n",
            "   predicted,  actual\n",
            "0. merger, merger\n",
            "1. elliptical, elliptical\n",
            "2. spiral, spiral\n",
            "3. elliptical, merger\n",
            "4. elliptical, elliptical\n",
            "5. merger, elliptical\n",
            "6. elliptical, elliptical\n",
            "7. spiral, merger\n",
            "8. elliptical, merger\n",
            "9. elliptical, elliptical\n"
          ]
        }
      ]
    },
    {
      "cell_type": "markdown",
      "source": [
        "\n",
        "\n",
        "---\n",
        "\n"
      ],
      "metadata": {
        "id": "WOTbK8kf2KjZ"
      }
    },
    {
      "cell_type": "markdown",
      "source": [
        "## Task iv - Accuracy in classification\n",
        "\n",
        "Your task is to complete the calculate_accuracy function. The function should calculate the accuracy: the fraction of predictions that are correct (i.e. the model score):\n",
        "\n",
        "```accuracy = # correct predictions / # predictions```\n",
        "\n",
        "The function takes two arguments;\n",
        "\n",
        "* <b>predicted</b>: an array of the predicted class for each galaxy.\n",
        "* <b>actual</b>: an array of the actual class for each galaxy.\n",
        "\n",
        "<p>The return value should be a float (between 0 and 1)."
      ],
      "metadata": {
        "id": "THD7vurI8NNw"
      }
    },
    {
      "cell_type": "code",
      "source": [
        "# libraries\n",
        "import numpy as np\n",
        "from matplotlib import pyplot as plt\n",
        "from sklearn.metrics import confusion_matrix, ConfusionMatrixDisplay\n",
        "from sklearn.model_selection import cross_val_predict\n",
        "from sklearn.tree import DecisionTreeClassifier\n",
        "from mlxtend.plotting import plot_confusion_matrix\n",
        "\n",
        "\n",
        "def calculate_accuracy(predicted, actual):\n",
        "  accuracy = sum(predicted == actual) /  len(actual)\n",
        "  return accuracy"
      ],
      "metadata": {
        "id": "iDkz35-A8rD0"
      },
      "execution_count": null,
      "outputs": []
    },
    {
      "cell_type": "code",
      "source": [
        "gal_data = np.load('galaxy_catalogue.npy')\n",
        "\n",
        "# split the data\n",
        "features, targets = generate_features_targets(gal_data)\n",
        "\n",
        "# train the model to get predicted and actual classes\n",
        "dtc = DecisionTreeClassifier()\n",
        "predicted = cross_val_predict(dtc, features, targets, cv=10)\n",
        "\n",
        "# calculate the model score using your function\n",
        "model_score = calculate_accuracy(predicted, targets)\n",
        "print(\"Our accuracy score:\", model_score)\n",
        "\n",
        "# calculate the models confusion matrix using sklearns confusion_matrix function\n",
        "class_labels = list(set(targets))\n",
        "model_cm = confusion_matrix(y_true=targets, y_pred=predicted)\n",
        "\n",
        "# Plot the confusion matrix\n",
        "metr = ConfusionMatrixDisplay(model_cm, display_labels=class_labels)\n",
        "metr.plot(cmap=plt.cm.Blues)\n",
        "plt.show()"
      ],
      "metadata": {
        "colab": {
          "base_uri": "https://localhost:8080/",
          "height": 466
        },
        "id": "qcqenkO19QPf",
        "outputId": "d34ff4bd-bd6c-43d2-b243-eb3497fbebb3"
      },
      "execution_count": null,
      "outputs": [
        {
          "output_type": "stream",
          "name": "stdout",
          "text": [
            "Our accuracy score: 0.7858974358974359\n"
          ]
        },
        {
          "output_type": "display_data",
          "data": {
            "text/plain": [
              "<Figure size 640x480 with 2 Axes>"
            ],
            "image/png": "[encoded data removed]"
          },
          "metadata": {}
        }
      ]
    },
    {
      "cell_type": "markdown",
      "source": [
        "\n",
        "\n",
        "---\n",
        "\n"
      ],
      "metadata": {
        "id": "zdd_qBHO_ixT"
      }
    },
    {
      "cell_type": "markdown",
      "source": [
        "## Task - Week 6a.v Random forest\n",
        "\n",
        "Your task here is to complete the ```rf_predict_actual``` function. It returns the predicted and actual classes for our galaxies using a <b>random forest 10-fold with cross validation</b>.\n",
        "\n",
        "You should use the RandomForestClassifier class from the ```sklearn.ensemble``` module. It can be instantiated with:"
      ],
      "metadata": {
        "id": "GvX0UKcitsmh"
      }
    },
    {
      "cell_type": "code",
      "source": [
        "rfc = RandomForestClassifier(n_estimators=n_estimators)"
      ],
      "metadata": {
        "id": "8Rn65yf_t4sl"
      },
      "execution_count": null,
      "outputs": []
    },
    {
      "cell_type": "markdown",
      "source": [
        "```n_estimators``` is the the number of decision trees in the forest.\n",
        "\n",
        "```rf_predict_actual``` takes two arguments: the <b>data</b> used throughout this activity and the <b>number of estimators (n_estimators)</b> to be used in the random forest.\n",
        "\n",
        "The function should return two NumPy arrays containing the predicted and actual classes respectively.\n",
        "\n",
        "You can copy and paste the functions from previous questions. However, we have provided the ```generate_features_targets``` function in the support library.\n",
        "\n",
        "Use the ```cross_val_predict``` function from the ```model_selection``` module as we did in the last question.\n",
        "\n",
        "You can read its documentation [here](https://scikit-learn.org/stable/modules/generated/sklearn.model_selection.cross_val_predict.html). This approach allows us to get a prediction for every galaxy in the data set through cross validation. It also means that we don't need to manage the training and test sets."
      ],
      "metadata": {
        "id": "7a2Cl4Mmt6DV"
      }
    },
    {
      "cell_type": "code",
      "source": [
        "# complete this function to get predictions from a random forest classifier\n",
        "def rf_predict_actual(data, n_estimators):\n",
        "  # generate the features and targets\n",
        "  features, targets = generate_features_targets(data)\n",
        "  actual_class = np.array(targets)\n",
        "\n",
        "  # instantiate a random forest classifier using n estimators\n",
        "  rfc = RandomForestClassifier(n_estimators=n_estimators)\n",
        "\n",
        "  # get predictions using 10-fold cross validation with cross_val_predict\n",
        "  predict = cross_val_predict(rfc, features, targets, cv=10)\n",
        "  predictions = np.array(predict)\n",
        "\n",
        "  # return the predictions and their actual classes\n",
        "  return predictions, actual_class"
      ],
      "metadata": {
        "id": "i1EJOpvxul_2"
      },
      "execution_count": null,
      "outputs": []
    },
    {
      "cell_type": "code",
      "source": [
        "import numpy as np\n",
        "from matplotlib import pyplot as plt\n",
        "from sklearn.metrics import confusion_matrix, ConfusionMatrixDisplay\n",
        "from sklearn.model_selection import cross_val_predict\n",
        "from sklearn.ensemble import RandomForestClassifier\n",
        "\n",
        "gal_data = np.load('galaxy_catalogue.npy')"
      ],
      "metadata": {
        "id": "D6vXT8qSxbRM"
      },
      "execution_count": null,
      "outputs": []
    },
    {
      "cell_type": "code",
      "source": [
        "# get the predicted and actual classes\n",
        "number_estimators = 200              # Number of trees\n",
        "predicted_rf, actual_rf = rf_predict_actual(gal_data, number_estimators)"
      ],
      "metadata": {
        "id": "WPyTQzYnxe0V"
      },
      "execution_count": null,
      "outputs": []
    },
    {
      "cell_type": "code",
      "source": [
        "# calculate the model score using your function\n",
        "accuracy_rf = calculate_accuracy(predicted_rf, actual_rf)\n",
        "print(\"Accuracy score:\", accuracy_rf)"
      ],
      "metadata": {
        "colab": {
          "base_uri": "https://localhost:8080/"
        },
        "id": "xkc6UIJSxz6l",
        "outputId": "726446a2-8d3a-435d-d82e-498919bf8559"
      },
      "execution_count": null,
      "outputs": [
        {
          "output_type": "stream",
          "name": "stdout",
          "text": [
            "Accuracy score: 0.8705128205128205\n"
          ]
        }
      ]
    },
    {
      "cell_type": "code",
      "source": [
        "# calculate the models confusion matrix using sklearns confusion_matrix function\n",
        "class_labels_rf = list(set(actual_rf))\n",
        "model_cm_rf = confusion_matrix(y_true=actual_rf, y_pred=predicted_rf)"
      ],
      "metadata": {
        "id": "YuqFP4k-x2bl"
      },
      "execution_count": null,
      "outputs": []
    },
    {
      "cell_type": "code",
      "source": [
        "# plot the confusion matrix using the provided functions.\n",
        "# plt.figure()\n",
        "# plot_confusion_matrix(model_cm_rf, classes=class_labels, normalize=False)\n",
        "# plt.show()\n",
        "\n",
        "metr_rf = ConfusionMatrixDisplay(model_cm_rf, display_labels=class_labels_rf)\n",
        "metr_rf.plot(cmap=plt.cm.Blues)\n",
        "plt.show()"
      ],
      "metadata": {
        "id": "OQRPiW2kx3yD",
        "colab": {
          "base_uri": "https://localhost:8080/",
          "height": 449
        },
        "outputId": "988385bb-6b99-4ad4-b836-1dea5d92ba21"
      },
      "execution_count": null,
      "outputs": [
        {
          "output_type": "display_data",
          "data": {
            "text/plain": [
              "<Figure size 640x480 with 2 Axes>"
            ],
            "image/png": "[encoded data removed]"
          },
          "metadata": {}
        }
      ]
    }
  ]
}